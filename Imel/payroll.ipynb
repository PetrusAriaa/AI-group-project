{
 "cells": [
  {
   "cell_type": "code",
   "execution_count": null,
   "metadata": {},
   "outputs": [],
   "source": [
    "import pandas as pd\n",
    "import numpy as np"
   ]
  },
  {
   "cell_type": "code",
   "execution_count": null,
   "metadata": {},
   "outputs": [],
   "source": [
    "dataPayment = '../Datasets/Employee_Payroll.csv'\n",
    "payroll = pd.read_csv(dataPayment)\n",
    "payroll.head()"
   ]
  },
  {
   "cell_type": "code",
   "execution_count": null,
   "metadata": {},
   "outputs": [],
   "source": [
    "payroll.fillna(0, inplace=True)"
   ]
  },
  {
   "cell_type": "code",
   "execution_count": null,
   "metadata": {},
   "outputs": [],
   "source": [
    "payroll.drop(['First Name', 'Last Name', 'Middle Init', 'Bureau', 'Office', 'Office Name', 'Job Title'],axis=1,inplace=True)\n",
    "payroll.head()"
   ]
  },
  {
   "cell_type": "code",
   "execution_count": null,
   "metadata": {},
   "outputs": [],
   "source": [
    "pr = payroll.loc[payroll['Job Code'] == 1172]\n",
    "pr"
   ]
  },
  {
   "cell_type": "code",
   "execution_count": null,
   "metadata": {},
   "outputs": [],
   "source": [
    "len(pr.axes[0])\n",
    "pr.info()"
   ]
  },
  {
   "cell_type": "code",
   "execution_count": null,
   "metadata": {},
   "outputs": [],
   "source": [
    "_index = payroll['Job Code'].unique()\n",
    "_ids = []\n",
    "\n",
    "try:\n",
    "  with open('../Datasets/ids.txt', \"r\") as f:\n",
    "    arr =[]\n",
    "    for line in f:\n",
    "       arr.append(int(line))\n",
    "    print(arr)\n",
    "except:\n",
    "  for _id in _index:\n",
    "      counts = len(payroll.groupby(['Job Code']).get_group(_id))\n",
    "      if counts > 1000:\n",
    "          sid = str(_id)\n",
    "          _ids.append(sid)\n",
    "          \n",
    "  with open('../Datasets/ids.txt', 'w') as f:\n",
    "    for _id in _ids:\n",
    "      f.write('%s\\n' % _id)\n",
    "finally:\n",
    "   f.close()\n"
   ]
  },
  {
   "cell_type": "code",
   "execution_count": null,
   "metadata": {},
   "outputs": [],
   "source": [
    "pr = pr.sort_values(by=['Employee Identifier'], ascending=True)"
   ]
  },
  {
   "cell_type": "code",
   "execution_count": null,
   "metadata": {},
   "outputs": [],
   "source": [
    "fiscal = pd.pivot_table(pr, values='Base Pay', index=['Fiscal Period'], columns='Employee Identifier')\n",
    "fiscal"
   ]
  },
  {
   "cell_type": "code",
   "execution_count": null,
   "metadata": {},
   "outputs": [],
   "source": [
    "fiscal.diff()"
   ]
  }
 ],
 "metadata": {
  "kernelspec": {
   "display_name": "Python 3",
   "language": "python",
   "name": "python3"
  },
  "language_info": {
   "codemirror_mode": {
    "name": "ipython",
    "version": 3
   },
   "file_extension": ".py",
   "mimetype": "text/x-python",
   "name": "python",
   "nbconvert_exporter": "python",
   "pygments_lexer": "ipython3",
   "version": "3.10.8"
  },
  "orig_nbformat": 4,
  "vscode": {
   "interpreter": {
    "hash": "f2ccb58c476f33ba3e3aee7ac07234ef6b8217ef24ad64d2a7d4fed1a57c1cd2"
   }
  }
 },
 "nbformat": 4,
 "nbformat_minor": 2
}
