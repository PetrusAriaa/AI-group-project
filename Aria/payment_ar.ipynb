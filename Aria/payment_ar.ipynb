{
	"cells": [
		{
			"cell_type": "code",
			"execution_count": null,
			"metadata": {},
			"outputs": [],
			"source": [
				"import pandas as pd\n",
				"import numpy as np\n",
				"import matplotlib.pyplot as plt\n",
				"import os"
			]
		},
		{
			"cell_type": "code",
			"execution_count": null,
			"metadata": {},
			"outputs": [],
			"source": [
				"# read table\n",
				"\n",
				"dataPayment = '../Datasets/Employee_Payroll.csv'\n",
				"payroll = pd.read_csv(dataPayment)\n",
				"\n",
				"# set default value to 0 for NaN numerical data\n",
				"payroll.fillna(0, inplace=True)\n",
				"payroll['Office'] = payroll['Office'].astype(int)\n",
				"\n",
				"# define column for 1/4 year discretization\n",
				"payroll['Fiscal Quarter'] = payroll['Fiscal Quarter']*0.25 - 0.25\n",
				"payroll['Fiscal Period'] = payroll['Fiscal Year'] + payroll['Fiscal Quarter']\n",
				"\n",
				"pd.to_datetime(payroll['Original Hire Date'])\n",
				"\n",
				"# parse hire date to get hire year\n",
				"payroll['Original Hire Date'] = payroll['Original Hire Date'].str.split('/').str[2]\n",
				"payroll['Original Hire Date'] = payroll['Original Hire Date'].astype(int)\n",
				"\n",
				"_work_year = payroll[\"Fiscal Period\"] - payroll['Original Hire Date']"
			]
		},
		{
			"cell_type": "code",
			"execution_count": null,
			"metadata": {},
			"outputs": [],
			"source": [
				"payroll.info()"
			]
		},
		{
			"cell_type": "code",
			"execution_count": null,
			"metadata": {},
			"outputs": [],
			"source": [
				"# specify table column included\n",
				"\n",
				"payroll = payroll[['Fiscal Year', 'Fiscal Period', 'Job Code', 'Base Pay', 'Position ID', 'Employee Identifier']]\n",
				"\n",
				"# add Working Year Column\n",
				"payroll[\"Working Year\"] = _work_year\n",
				"\n",
				"payroll.head(20)"
			]
		},
		{
			"cell_type": "code",
			"execution_count": null,
			"metadata": {},
			"outputs": [],
			"source": [
				"group_1172 = payroll.groupby(['Job Code']).get_group(1172)\n",
				"\n",
				"# grouped1 = group_1172.groupby(['Fiscal Period']).get_group(2016.0)\n",
				"# grouped2 = group_1172.groupby(['Fiscal Period']).get_group(2016.25)\n",
				"\n",
				"_sorted = group_1172.sort_values('Employee Identifier')\n",
				"_sorted"
			]
		},
		{
			"cell_type": "code",
			"execution_count": null,
			"metadata": {},
			"outputs": [],
			"source": [
				"grouped = group_1172.groupby(['Fiscal Year']).get_group(2017)\n",
				"grouped.plot(kind='scatter', x='Working Year', y='Base Pay', figsize=(9, 4))"
			]
		},
		{
			"cell_type": "code",
			"execution_count": null,
			"metadata": {},
			"outputs": [],
			"source": [
				"grouped = group_1172.groupby(['Fiscal Year']).get_group(2016)\n",
				"grouped.plot(kind='scatter', x='Fiscal Period', y='Base Pay', figsize=(9, 4))"
			]
		},
		{
			"cell_type": "code",
			"execution_count": null,
			"metadata": {},
			"outputs": [],
			"source": [
				"fig, ax = plt.subplots(figsize =(9,5))\n",
				"ax.scatter(grouped['Working Year'], grouped['Base Pay'])\n",
				"\n",
				"plt.show()"
			]
		},
		{
			"cell_type": "code",
			"execution_count": null,
			"metadata": {},
			"outputs": [],
			"source": [
				"arr = []\n",
				"\n",
				"\n",
				"try:\n",
				"    with open('../cache/ids.txt', \"r\") as f:\n",
				"        for _id in f:\n",
				"            arr.append(int(_id))\n",
				"except:\n",
				"    if not os.path.exists('../cache'):\n",
				"        os.mkdir('../cache')\n",
				"        \n",
				"    _index = payroll['Job Code'].unique()\n",
				"    for _id in _index:\n",
				"        counts = len(payroll.groupby(['Job Code']).get_group(_id))\n",
				"        if counts > 1000:\n",
				"            arr.append(str(_id))\n",
				"    with open('cache/ids.txt', 'w') as f:\n",
				"        for _id in arr:\n",
				"            f.write('%s\\n' % _id) \n",
				"finally:\n",
				"   f.close()\n",
				"\n",
				"# :return : <List> arr : list of unique job id"
			]
		},
		{
			"cell_type": "code",
			"execution_count": null,
			"metadata": {},
			"outputs": [],
			"source": [
				"# for val in arr:\n",
				"#     new_df = payroll[payroll['Job Code'] == val]\n",
				"#     print(f\"DataFrame for job code {val}:\")\n",
				"#     display(new_df)"
			]
		}
	],
	"metadata": {
		"kernelspec": {
			"display_name": "Python 3",
			"language": "python",
			"name": "python3"
		},
		"language_info": {
			"codemirror_mode": {
				"name": "ipython",
				"version": 3
			},
			"file_extension": ".py",
			"mimetype": "text/x-python",
			"name": "python",
			"nbconvert_exporter": "python",
			"pygments_lexer": "ipython3",
			"version": "3.10.8"
		},
		"orig_nbformat": 4
	},
	"nbformat": 4,
	"nbformat_minor": 2
}
