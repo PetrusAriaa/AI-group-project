{
	"cells": [
		{
			"cell_type": "code",
			"execution_count": null,
			"metadata": {},
			"outputs": [],
			"source": [
				"import pandas as pd\n",
				"import numpy as np\n",
				"import matplotlib.pyplot as plt\n",
				"import os"
			]
		},
		{
			"cell_type": "code",
			"execution_count": null,
			"metadata": {},
			"outputs": [],
			"source": [
				"dataPayment = 'Datasets/Employee_Payroll.csv'\n",
				"payroll = pd.read_csv(dataPayment)"
			]
		},
		{
			"cell_type": "code",
			"execution_count": null,
			"metadata": {},
			"outputs": [],
			"source": [
				"new_payroll = payroll[['Fiscal Year', 'Fiscal Quarter', 'Fiscal Period', 'Job Code', 'Job Title', 'Base Pay', 'Position ID', 'Employee Identifier', 'Original Hire Date']]\n",
				"new_payroll.head(2)"
			]
		},
		{
			"cell_type": "code",
			"execution_count": null,
			"metadata": {},
			"outputs": [],
			"source": [
				"_index = payroll['Job Code'].unique()\n",
				"arr = []\n",
				"try:\n",
				"  with open('cache/ids.txt', \"r\") as f:\n",
				"    for line in f:\n",
				"       arr.append(int(line))\n",
				"except:\n",
				"    _ids = []\n",
				"    for _id in _index:\n",
				"        counts = len(payroll.groupby(['Job Code']).get_group(_id))\n",
				"        if counts > 1000:\n",
				"            _ids.append(str(_id))\n",
				"\n",
				"    with open('cache/ids.txt', 'w') as f:\n",
				"        for _id in _ids:\n",
				"            f.write('%s\\n' % _id)\n",
				"finally:\n",
				"   f.close()\n",
				"\n",
				"arr"
			]
		},
		{
			"cell_type": "code",
			"execution_count": null,
			"metadata": {},
			"outputs": [],
			"source": [
				"_hired = payroll[\"Original Hire Date\"]\n",
				"_hired = _hired.str.replace(\"/\", \"\")\n",
				"_hired = _hired.str.slice_replace(0, 4, \"\")\n",
				"_fiscal_year = payroll[\"Fiscal Year\"]\n",
				"\n",
				"_hired = np.array(_hired.astype('int'))\n",
				"_fiscal_year = np.array(_fiscal_year.astype('int'))\n",
				"work_year = _fiscal_year - _hired\n",
				"work_year"
			]
		},
		{
			"cell_type": "code",
			"execution_count": null,
			"metadata": {},
			"outputs": [],
			"source": [
				"new_payroll['Working Year'] = work_year\n",
				"new_payroll"
			]
		},
		{
			"cell_type": "code",
			"execution_count": null,
			"metadata": {},
			"outputs": [],
			"source": [
				"new_payroll['Base Pay'] = new_payroll['Base Pay'].fillna(0)\n",
				"new_payroll"
			]
		},
		{
			"cell_type": "code",
			"execution_count": null,
			"metadata": {},
			"outputs": [],
			"source": [
				"new_payroll.isnull().sum()"
			]
		},
		{
			"cell_type": "code",
			"execution_count": null,
			"metadata": {},
			"outputs": [],
			"source": [
				"for val in arr:\n",
				"    new_df = new_payroll[new_payroll['Job Code'] == val]\n",
				"    print(f\"DataFrame for job code {val}:\")\n",
				"    display(new_df)"
			]
		}
	],
	"metadata": {
		"kernelspec": {
			"display_name": "Python 3",
			"language": "python",
			"name": "python3"
		},
		"language_info": {
			"codemirror_mode": {
				"name": "ipython",
				"version": 3
			},
			"file_extension": ".py",
			"mimetype": "text/x-python",
			"name": "python",
			"nbconvert_exporter": "python",
			"pygments_lexer": "ipython3",
			"version": "3.10.8"
		},
		"orig_nbformat": 4
	},
	"nbformat": 4,
	"nbformat_minor": 2
}
