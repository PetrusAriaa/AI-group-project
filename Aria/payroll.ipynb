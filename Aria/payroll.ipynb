{
	"cells": [
		{
			"cell_type": "code",
			"execution_count": 1,
			"metadata": {},
			"outputs": [],
			"source": [
				"import pandas as pd\n",
				"import numpy as np\n",
				"import matplotlib.pyplot as plt"
			]
		},
		{
			"cell_type": "code",
			"execution_count": 19,
			"metadata": {},
			"outputs": [
				{
					"data": {
						"text/html": [
							"<div>\n",
							"<style scoped>\n",
							"    .dataframe tbody tr th:only-of-type {\n",
							"        vertical-align: middle;\n",
							"    }\n",
							"\n",
							"    .dataframe tbody tr th {\n",
							"        vertical-align: top;\n",
							"    }\n",
							"\n",
							"    .dataframe thead th {\n",
							"        text-align: right;\n",
							"    }\n",
							"</style>\n",
							"<table border=\"1\" class=\"dataframe\">\n",
							"  <thead>\n",
							"    <tr style=\"text-align: right;\">\n",
							"      <th></th>\n",
							"      <th>Fiscal Year</th>\n",
							"      <th>Fiscal Quarter</th>\n",
							"      <th>Fiscal Period</th>\n",
							"      <th>First Name</th>\n",
							"      <th>Last Name</th>\n",
							"      <th>Middle Init</th>\n",
							"      <th>Bureau</th>\n",
							"      <th>Office</th>\n",
							"      <th>Office Name</th>\n",
							"      <th>Job Code</th>\n",
							"      <th>Job Title</th>\n",
							"      <th>Base Pay</th>\n",
							"      <th>Position ID</th>\n",
							"      <th>Employee Identifier</th>\n",
							"      <th>Original Hire Date</th>\n",
							"    </tr>\n",
							"  </thead>\n",
							"  <tbody>\n",
							"    <tr>\n",
							"      <th>0</th>\n",
							"      <td>2016</td>\n",
							"      <td>1</td>\n",
							"      <td>2016Q1</td>\n",
							"      <td>AMRITH</td>\n",
							"      <td>AAKRE</td>\n",
							"      <td>K</td>\n",
							"      <td>State's Attorney</td>\n",
							"      <td>1250.0</td>\n",
							"      <td>STATES ATTORNEY</td>\n",
							"      <td>1172</td>\n",
							"      <td>Assistant State's Attorney</td>\n",
							"      <td>20088.0</td>\n",
							"      <td>9510200</td>\n",
							"      <td>6ac7ba3e-d286-44f5-87a0-191dc415e23c</td>\n",
							"      <td>05/16/2005</td>\n",
							"    </tr>\n",
							"    <tr>\n",
							"      <th>1</th>\n",
							"      <td>2016</td>\n",
							"      <td>2</td>\n",
							"      <td>2016Q2</td>\n",
							"      <td>AMRITH</td>\n",
							"      <td>AAKRE</td>\n",
							"      <td>K</td>\n",
							"      <td>State's Attorney</td>\n",
							"      <td>1250.0</td>\n",
							"      <td>STATES ATTORNEY</td>\n",
							"      <td>1172</td>\n",
							"      <td>Assistant State's Attorney</td>\n",
							"      <td>23436.0</td>\n",
							"      <td>9510200</td>\n",
							"      <td>6ac7ba3e-d286-44f5-87a0-191dc415e23c</td>\n",
							"      <td>05/16/2005</td>\n",
							"    </tr>\n",
							"  </tbody>\n",
							"</table>\n",
							"</div>"
						],
						"text/plain": [
							"   Fiscal Year  Fiscal Quarter Fiscal Period First Name Last Name Middle Init  \\\n",
							"0         2016               1        2016Q1     AMRITH     AAKRE           K   \n",
							"1         2016               2        2016Q2     AMRITH     AAKRE           K   \n",
							"\n",
							"             Bureau  Office      Office Name  Job Code  \\\n",
							"0  State's Attorney  1250.0  STATES ATTORNEY      1172   \n",
							"1  State's Attorney  1250.0  STATES ATTORNEY      1172   \n",
							"\n",
							"                    Job Title  Base Pay  Position ID  \\\n",
							"0  Assistant State's Attorney   20088.0      9510200   \n",
							"1  Assistant State's Attorney   23436.0      9510200   \n",
							"\n",
							"                    Employee Identifier Original Hire Date  \n",
							"0  6ac7ba3e-d286-44f5-87a0-191dc415e23c         05/16/2005  \n",
							"1  6ac7ba3e-d286-44f5-87a0-191dc415e23c         05/16/2005  "
						]
					},
					"execution_count": 19,
					"metadata": {},
					"output_type": "execute_result"
				}
			],
			"source": [
				"dataPayment = '../Datasets/Employee_Payroll.csv'\n",
				"payroll = pd.read_csv(dataPayment)\n",
				"payroll.head(2)"
			]
		},
		{
			"cell_type": "code",
			"execution_count": 20,
			"metadata": {},
			"outputs": [
				{
					"data": {
						"text/html": [
							"<div>\n",
							"<style scoped>\n",
							"    .dataframe tbody tr th:only-of-type {\n",
							"        vertical-align: middle;\n",
							"    }\n",
							"\n",
							"    .dataframe tbody tr th {\n",
							"        vertical-align: top;\n",
							"    }\n",
							"\n",
							"    .dataframe thead th {\n",
							"        text-align: right;\n",
							"    }\n",
							"</style>\n",
							"<table border=\"1\" class=\"dataframe\">\n",
							"  <thead>\n",
							"    <tr style=\"text-align: right;\">\n",
							"      <th></th>\n",
							"      <th>Fiscal Year</th>\n",
							"      <th>Fiscal Quarter</th>\n",
							"      <th>Fiscal Period</th>\n",
							"      <th>Job Code</th>\n",
							"      <th>Base Pay</th>\n",
							"      <th>Position ID</th>\n",
							"      <th>Employee Identifier</th>\n",
							"      <th>Original Hire Date</th>\n",
							"    </tr>\n",
							"  </thead>\n",
							"  <tbody>\n",
							"    <tr>\n",
							"      <th>0</th>\n",
							"      <td>2016</td>\n",
							"      <td>1</td>\n",
							"      <td>2016Q1</td>\n",
							"      <td>1172</td>\n",
							"      <td>20088.0</td>\n",
							"      <td>9510200</td>\n",
							"      <td>6ac7ba3e-d286-44f5-87a0-191dc415e23c</td>\n",
							"      <td>05/16/2005</td>\n",
							"    </tr>\n",
							"    <tr>\n",
							"      <th>1</th>\n",
							"      <td>2016</td>\n",
							"      <td>2</td>\n",
							"      <td>2016Q2</td>\n",
							"      <td>1172</td>\n",
							"      <td>23436.0</td>\n",
							"      <td>9510200</td>\n",
							"      <td>6ac7ba3e-d286-44f5-87a0-191dc415e23c</td>\n",
							"      <td>05/16/2005</td>\n",
							"    </tr>\n",
							"  </tbody>\n",
							"</table>\n",
							"</div>"
						],
						"text/plain": [
							"   Fiscal Year  Fiscal Quarter Fiscal Period  Job Code  Base Pay  Position ID  \\\n",
							"0         2016               1        2016Q1      1172   20088.0      9510200   \n",
							"1         2016               2        2016Q2      1172   23436.0      9510200   \n",
							"\n",
							"                    Employee Identifier Original Hire Date  \n",
							"0  6ac7ba3e-d286-44f5-87a0-191dc415e23c         05/16/2005  \n",
							"1  6ac7ba3e-d286-44f5-87a0-191dc415e23c         05/16/2005  "
						]
					},
					"execution_count": 20,
					"metadata": {},
					"output_type": "execute_result"
				}
			],
			"source": [
				"payroll.drop(['First Name', 'Last Name', 'Middle Init', 'Bureau', 'Office', 'Office Name', 'Job Title'],axis=1,inplace=True)\n",
				"payroll.head(2)"
			]
		},
		{
			"cell_type": "code",
			"execution_count": 21,
			"metadata": {},
			"outputs": [
				{
					"name": "stdout",
					"output_type": "stream",
					"text": [
						"38\n"
					]
				}
			],
			"source": [
				"_index = payroll['Job Code'].unique()\n",
				"\n",
				"_ids = []\n",
				"\n",
				"for _id in _index:\n",
				"    counts = len(payroll.groupby(['Job Code']).get_group(_id))\n",
				"    if counts > 1000:\n",
				"        _ids.append(_id)\n",
				"        \n",
				"print(len(_ids))"
			]
		}
	],
	"metadata": {
		"kernelspec": {
			"display_name": "Python 3",
			"language": "python",
			"name": "python3"
		},
		"language_info": {
			"codemirror_mode": {
				"name": "ipython",
				"version": 3
			},
			"file_extension": ".py",
			"mimetype": "text/x-python",
			"name": "python",
			"nbconvert_exporter": "python",
			"pygments_lexer": "ipython3",
			"version": "3.10.8"
		},
		"orig_nbformat": 4
	},
	"nbformat": 4,
	"nbformat_minor": 2
}
