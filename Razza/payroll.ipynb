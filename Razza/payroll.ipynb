{
 "cells": [
  {
   "cell_type": "code",
   "execution_count": 216,
   "metadata": {},
   "outputs": [],
   "source": [
    "import pandas as pd\n",
    "import numpy as np"
   ]
  },
  {
   "cell_type": "code",
   "execution_count": 217,
   "metadata": {},
   "outputs": [
    {
     "data": {
      "text/html": [
       "<div>\n",
       "<style scoped>\n",
       "    .dataframe tbody tr th:only-of-type {\n",
       "        vertical-align: middle;\n",
       "    }\n",
       "\n",
       "    .dataframe tbody tr th {\n",
       "        vertical-align: top;\n",
       "    }\n",
       "\n",
       "    .dataframe thead th {\n",
       "        text-align: right;\n",
       "    }\n",
       "</style>\n",
       "<table border=\"1\" class=\"dataframe\">\n",
       "  <thead>\n",
       "    <tr style=\"text-align: right;\">\n",
       "      <th></th>\n",
       "      <th>Fiscal Year</th>\n",
       "      <th>Fiscal Quarter</th>\n",
       "      <th>Fiscal Period</th>\n",
       "      <th>First Name</th>\n",
       "      <th>Last Name</th>\n",
       "      <th>Middle Init</th>\n",
       "      <th>Bureau</th>\n",
       "      <th>Office</th>\n",
       "      <th>Office Name</th>\n",
       "      <th>Job Code</th>\n",
       "      <th>Job Title</th>\n",
       "      <th>Base Pay</th>\n",
       "      <th>Position ID</th>\n",
       "      <th>Employee Identifier</th>\n",
       "      <th>Original Hire Date</th>\n",
       "    </tr>\n",
       "  </thead>\n",
       "  <tbody>\n",
       "    <tr>\n",
       "      <th>0</th>\n",
       "      <td>2016</td>\n",
       "      <td>1</td>\n",
       "      <td>2016Q1</td>\n",
       "      <td>AMRITH</td>\n",
       "      <td>AAKRE</td>\n",
       "      <td>K</td>\n",
       "      <td>State's Attorney</td>\n",
       "      <td>1250.0</td>\n",
       "      <td>STATES ATTORNEY</td>\n",
       "      <td>1172</td>\n",
       "      <td>Assistant State's Attorney</td>\n",
       "      <td>20088.00</td>\n",
       "      <td>9510200</td>\n",
       "      <td>6ac7ba3e-d286-44f5-87a0-191dc415e23c</td>\n",
       "      <td>05/16/2005</td>\n",
       "    </tr>\n",
       "    <tr>\n",
       "      <th>1</th>\n",
       "      <td>2016</td>\n",
       "      <td>2</td>\n",
       "      <td>2016Q2</td>\n",
       "      <td>AMRITH</td>\n",
       "      <td>AAKRE</td>\n",
       "      <td>K</td>\n",
       "      <td>State's Attorney</td>\n",
       "      <td>1250.0</td>\n",
       "      <td>STATES ATTORNEY</td>\n",
       "      <td>1172</td>\n",
       "      <td>Assistant State's Attorney</td>\n",
       "      <td>23436.00</td>\n",
       "      <td>9510200</td>\n",
       "      <td>6ac7ba3e-d286-44f5-87a0-191dc415e23c</td>\n",
       "      <td>05/16/2005</td>\n",
       "    </tr>\n",
       "    <tr>\n",
       "      <th>2</th>\n",
       "      <td>2016</td>\n",
       "      <td>3</td>\n",
       "      <td>2016Q3</td>\n",
       "      <td>AMRITH</td>\n",
       "      <td>AAKRE</td>\n",
       "      <td>K</td>\n",
       "      <td>State's Attorney</td>\n",
       "      <td>1250.0</td>\n",
       "      <td>STATES ATTORNEY</td>\n",
       "      <td>1172</td>\n",
       "      <td>Assistant State's Attorney</td>\n",
       "      <td>20422.82</td>\n",
       "      <td>9510200</td>\n",
       "      <td>6ac7ba3e-d286-44f5-87a0-191dc415e23c</td>\n",
       "      <td>05/16/2005</td>\n",
       "    </tr>\n",
       "    <tr>\n",
       "      <th>3</th>\n",
       "      <td>2016</td>\n",
       "      <td>4</td>\n",
       "      <td>2016Q4</td>\n",
       "      <td>AMRITH</td>\n",
       "      <td>AAKRE</td>\n",
       "      <td>K</td>\n",
       "      <td>State's Attorney</td>\n",
       "      <td>1250.0</td>\n",
       "      <td>STATES ATTORNEY</td>\n",
       "      <td>1172</td>\n",
       "      <td>Assistant State's Attorney</td>\n",
       "      <td>23904.80</td>\n",
       "      <td>9510200</td>\n",
       "      <td>6ac7ba3e-d286-44f5-87a0-191dc415e23c</td>\n",
       "      <td>05/16/2005</td>\n",
       "    </tr>\n",
       "  </tbody>\n",
       "</table>\n",
       "</div>"
      ],
      "text/plain": [
       "   Fiscal Year  Fiscal Quarter Fiscal Period First Name Last Name Middle Init  \\\n",
       "0         2016               1        2016Q1     AMRITH     AAKRE           K   \n",
       "1         2016               2        2016Q2     AMRITH     AAKRE           K   \n",
       "2         2016               3        2016Q3     AMRITH     AAKRE           K   \n",
       "3         2016               4        2016Q4     AMRITH     AAKRE           K   \n",
       "\n",
       "             Bureau  Office      Office Name  Job Code  \\\n",
       "0  State's Attorney  1250.0  STATES ATTORNEY      1172   \n",
       "1  State's Attorney  1250.0  STATES ATTORNEY      1172   \n",
       "2  State's Attorney  1250.0  STATES ATTORNEY      1172   \n",
       "3  State's Attorney  1250.0  STATES ATTORNEY      1172   \n",
       "\n",
       "                    Job Title  Base Pay  Position ID  \\\n",
       "0  Assistant State's Attorney  20088.00      9510200   \n",
       "1  Assistant State's Attorney  23436.00      9510200   \n",
       "2  Assistant State's Attorney  20422.82      9510200   \n",
       "3  Assistant State's Attorney  23904.80      9510200   \n",
       "\n",
       "                    Employee Identifier Original Hire Date  \n",
       "0  6ac7ba3e-d286-44f5-87a0-191dc415e23c         05/16/2005  \n",
       "1  6ac7ba3e-d286-44f5-87a0-191dc415e23c         05/16/2005  \n",
       "2  6ac7ba3e-d286-44f5-87a0-191dc415e23c         05/16/2005  \n",
       "3  6ac7ba3e-d286-44f5-87a0-191dc415e23c         05/16/2005  "
      ]
     },
     "execution_count": 217,
     "metadata": {},
     "output_type": "execute_result"
    }
   ],
   "source": [
    "payrollData = '../Datasets/Employee_Payroll.csv'\n",
    "payroll = pd.read_csv(payrollData)\n",
    "payroll.head(4)"
   ]
  },
  {
   "cell_type": "code",
   "execution_count": 238,
   "metadata": {},
   "outputs": [],
   "source": [
    "tes1 = payroll[\"Original Hire Date\"]\n",
    "tes1 = tes1.str.replace(\"/\", \"\")\n",
    "tes1 = tes1.str.slice_replace(0, 4, \"\")\n",
    "tes2 = payroll[\"Fiscal Year\"]"
   ]
  },
  {
   "cell_type": "code",
   "execution_count": 239,
   "metadata": {},
   "outputs": [
    {
     "data": {
      "text/plain": [
       "0         2005.0\n",
       "1         2005.0\n",
       "2         2005.0\n",
       "3         2005.0\n",
       "4         2005.0\n",
       "           ...  \n",
       "234294    2013.0\n",
       "234295    1988.0\n",
       "234296    1985.0\n",
       "234297    2016.0\n",
       "234298    2011.0\n",
       "Name: Original Hire Date, Length: 234299, dtype: float64"
      ]
     },
     "execution_count": 239,
     "metadata": {},
     "output_type": "execute_result"
    }
   ],
   "source": [
    "hireYear = tes1.astype('int')\n",
    "hireYear"
   ]
  },
  {
   "cell_type": "code",
   "execution_count": 240,
   "metadata": {},
   "outputs": [
    {
     "data": {
      "text/plain": [
       "0         2016.0\n",
       "1         2016.0\n",
       "2         2016.0\n",
       "3         2016.0\n",
       "4         2017.0\n",
       "           ...  \n",
       "234294    2018.0\n",
       "234295    2018.0\n",
       "234296    2018.0\n",
       "234297    2018.0\n",
       "234298    2018.0\n",
       "Name: Fiscal Year, Length: 234299, dtype: float64"
      ]
     },
     "execution_count": 240,
     "metadata": {},
     "output_type": "execute_result"
    }
   ],
   "source": [
    "fiscalYear = tes2.astype('int')\n",
    "fiscalYear"
   ]
  },
  {
   "cell_type": "code",
   "execution_count": 241,
   "metadata": {},
   "outputs": [
    {
     "data": {
      "text/plain": [
       "0         11.0\n",
       "1         11.0\n",
       "2         11.0\n",
       "3         11.0\n",
       "4         12.0\n",
       "          ... \n",
       "234294     5.0\n",
       "234295    30.0\n",
       "234296    33.0\n",
       "234297     2.0\n",
       "234298     7.0\n",
       "Length: 234299, dtype: float64"
      ]
     },
     "execution_count": 241,
     "metadata": {},
     "output_type": "execute_result"
    }
   ],
   "source": [
    "workYear = fiscalYear - hireYear\n",
    "workYear"
   ]
  }
 ],
 "metadata": {
  "kernelspec": {
   "display_name": "Python 3",
   "language": "python",
   "name": "python3"
  },
  "language_info": {
   "codemirror_mode": {
    "name": "ipython",
    "version": 3
   },
   "file_extension": ".py",
   "mimetype": "text/x-python",
   "name": "python",
   "nbconvert_exporter": "python",
   "pygments_lexer": "ipython3",
   "version": "3.11.0"
  },
  "orig_nbformat": 4,
  "vscode": {
   "interpreter": {
    "hash": "c261aea317cc0286b3b3261fbba9abdec21eaa57589985bb7a274bf54d6cc0a7"
   }
  }
 },
 "nbformat": 4,
 "nbformat_minor": 2
}
