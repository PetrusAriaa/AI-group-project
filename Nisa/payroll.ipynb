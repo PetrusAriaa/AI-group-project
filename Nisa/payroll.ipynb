{
 "cells": [
  {
   "cell_type": "code",
   "execution_count": 1,
   "metadata": {},
   "outputs": [],
   "source": [
    "import pandas as pd\n",
    "import numpy as np"
   ]
  },
  {
   "cell_type": "code",
   "execution_count": 2,
   "metadata": {},
   "outputs": [
    {
     "data": {
      "text/html": [
       "<div>\n",
       "<style scoped>\n",
       "    .dataframe tbody tr th:only-of-type {\n",
       "        vertical-align: middle;\n",
       "    }\n",
       "\n",
       "    .dataframe tbody tr th {\n",
       "        vertical-align: top;\n",
       "    }\n",
       "\n",
       "    .dataframe thead th {\n",
       "        text-align: right;\n",
       "    }\n",
       "</style>\n",
       "<table border=\"1\" class=\"dataframe\">\n",
       "  <thead>\n",
       "    <tr style=\"text-align: right;\">\n",
       "      <th></th>\n",
       "      <th>Fiscal Year</th>\n",
       "      <th>Fiscal Quarter</th>\n",
       "      <th>Fiscal Period</th>\n",
       "      <th>First Name</th>\n",
       "      <th>Last Name</th>\n",
       "      <th>Middle Init</th>\n",
       "      <th>Bureau</th>\n",
       "      <th>Office</th>\n",
       "      <th>Office Name</th>\n",
       "      <th>Job Code</th>\n",
       "      <th>Job Title</th>\n",
       "      <th>Base Pay</th>\n",
       "      <th>Position ID</th>\n",
       "      <th>Employee Identifier</th>\n",
       "      <th>Original Hire Date</th>\n",
       "    </tr>\n",
       "  </thead>\n",
       "  <tbody>\n",
       "    <tr>\n",
       "      <th>0</th>\n",
       "      <td>2016</td>\n",
       "      <td>1</td>\n",
       "      <td>2016Q1</td>\n",
       "      <td>AMRITH</td>\n",
       "      <td>AAKRE</td>\n",
       "      <td>K</td>\n",
       "      <td>State's Attorney</td>\n",
       "      <td>1250.0</td>\n",
       "      <td>STATES ATTORNEY</td>\n",
       "      <td>1172</td>\n",
       "      <td>Assistant State's Attorney</td>\n",
       "      <td>20088.00</td>\n",
       "      <td>9510200</td>\n",
       "      <td>6ac7ba3e-d286-44f5-87a0-191dc415e23c</td>\n",
       "      <td>05/16/2005</td>\n",
       "    </tr>\n",
       "    <tr>\n",
       "      <th>1</th>\n",
       "      <td>2016</td>\n",
       "      <td>2</td>\n",
       "      <td>2016Q2</td>\n",
       "      <td>AMRITH</td>\n",
       "      <td>AAKRE</td>\n",
       "      <td>K</td>\n",
       "      <td>State's Attorney</td>\n",
       "      <td>1250.0</td>\n",
       "      <td>STATES ATTORNEY</td>\n",
       "      <td>1172</td>\n",
       "      <td>Assistant State's Attorney</td>\n",
       "      <td>23436.00</td>\n",
       "      <td>9510200</td>\n",
       "      <td>6ac7ba3e-d286-44f5-87a0-191dc415e23c</td>\n",
       "      <td>05/16/2005</td>\n",
       "    </tr>\n",
       "    <tr>\n",
       "      <th>2</th>\n",
       "      <td>2016</td>\n",
       "      <td>3</td>\n",
       "      <td>2016Q3</td>\n",
       "      <td>AMRITH</td>\n",
       "      <td>AAKRE</td>\n",
       "      <td>K</td>\n",
       "      <td>State's Attorney</td>\n",
       "      <td>1250.0</td>\n",
       "      <td>STATES ATTORNEY</td>\n",
       "      <td>1172</td>\n",
       "      <td>Assistant State's Attorney</td>\n",
       "      <td>20422.82</td>\n",
       "      <td>9510200</td>\n",
       "      <td>6ac7ba3e-d286-44f5-87a0-191dc415e23c</td>\n",
       "      <td>05/16/2005</td>\n",
       "    </tr>\n",
       "    <tr>\n",
       "      <th>3</th>\n",
       "      <td>2016</td>\n",
       "      <td>4</td>\n",
       "      <td>2016Q4</td>\n",
       "      <td>AMRITH</td>\n",
       "      <td>AAKRE</td>\n",
       "      <td>K</td>\n",
       "      <td>State's Attorney</td>\n",
       "      <td>1250.0</td>\n",
       "      <td>STATES ATTORNEY</td>\n",
       "      <td>1172</td>\n",
       "      <td>Assistant State's Attorney</td>\n",
       "      <td>23904.80</td>\n",
       "      <td>9510200</td>\n",
       "      <td>6ac7ba3e-d286-44f5-87a0-191dc415e23c</td>\n",
       "      <td>05/16/2005</td>\n",
       "    </tr>\n",
       "    <tr>\n",
       "      <th>4</th>\n",
       "      <td>2017</td>\n",
       "      <td>1</td>\n",
       "      <td>2017Q1</td>\n",
       "      <td>AMRITH</td>\n",
       "      <td>AAKRE</td>\n",
       "      <td>K</td>\n",
       "      <td>State's Attorney</td>\n",
       "      <td>1250.0</td>\n",
       "      <td>STATES ATTORNEY</td>\n",
       "      <td>1172</td>\n",
       "      <td>Assistant State's Attorney</td>\n",
       "      <td>20745.80</td>\n",
       "      <td>9510200</td>\n",
       "      <td>6ac7ba3e-d286-44f5-87a0-191dc415e23c</td>\n",
       "      <td>05/16/2005</td>\n",
       "    </tr>\n",
       "  </tbody>\n",
       "</table>\n",
       "</div>"
      ],
      "text/plain": [
       "   Fiscal Year  Fiscal Quarter Fiscal Period First Name Last Name Middle Init  \\\n",
       "0         2016               1        2016Q1     AMRITH     AAKRE           K   \n",
       "1         2016               2        2016Q2     AMRITH     AAKRE           K   \n",
       "2         2016               3        2016Q3     AMRITH     AAKRE           K   \n",
       "3         2016               4        2016Q4     AMRITH     AAKRE           K   \n",
       "4         2017               1        2017Q1     AMRITH     AAKRE           K   \n",
       "\n",
       "             Bureau  Office      Office Name  Job Code  \\\n",
       "0  State's Attorney  1250.0  STATES ATTORNEY      1172   \n",
       "1  State's Attorney  1250.0  STATES ATTORNEY      1172   \n",
       "2  State's Attorney  1250.0  STATES ATTORNEY      1172   \n",
       "3  State's Attorney  1250.0  STATES ATTORNEY      1172   \n",
       "4  State's Attorney  1250.0  STATES ATTORNEY      1172   \n",
       "\n",
       "                    Job Title  Base Pay  Position ID  \\\n",
       "0  Assistant State's Attorney  20088.00      9510200   \n",
       "1  Assistant State's Attorney  23436.00      9510200   \n",
       "2  Assistant State's Attorney  20422.82      9510200   \n",
       "3  Assistant State's Attorney  23904.80      9510200   \n",
       "4  Assistant State's Attorney  20745.80      9510200   \n",
       "\n",
       "                    Employee Identifier Original Hire Date  \n",
       "0  6ac7ba3e-d286-44f5-87a0-191dc415e23c         05/16/2005  \n",
       "1  6ac7ba3e-d286-44f5-87a0-191dc415e23c         05/16/2005  \n",
       "2  6ac7ba3e-d286-44f5-87a0-191dc415e23c         05/16/2005  \n",
       "3  6ac7ba3e-d286-44f5-87a0-191dc415e23c         05/16/2005  \n",
       "4  6ac7ba3e-d286-44f5-87a0-191dc415e23c         05/16/2005  "
      ]
     },
     "execution_count": 2,
     "metadata": {},
     "output_type": "execute_result"
    }
   ],
   "source": [
    "dataPayment = '../Datasets/Employee_Payroll.csv'\n",
    "payroll = pd.read_csv(dataPayment)\n",
    "payroll.head()"
   ]
  },
  {
   "cell_type": "code",
   "execution_count": null,
   "metadata": {},
   "outputs": [],
   "source": [
    "new_payroll = payroll[['Fiscal Year', 'Fiscal Quarter', 'Fiscal Period', 'Job Code', 'Job Title', 'Base Pay', 'Position ID', 'Employee Identifier', 'Original Hire Date']]\n",
    "new_payroll.head()"
   ]
  },
  {
   "cell_type": "code",
   "execution_count": null,
   "metadata": {},
   "outputs": [],
   "source": [
    "# set default value to 0 for NaN numerical data\n",
    "payroll.fillna(0, inplace=True)\n",
    "payroll['Office'] = payroll['Office'].astype(int)\n",
    "\n",
    "# define column for 1/4 year discretization\n",
    "payroll['Fiscal Quarter'] = payroll['Fiscal Quarter']*0.25 - 0.25\n",
    "payroll['Fiscal Period'] = payroll['Fiscal Year'] + payroll['Fiscal Quarter']\n",
    "\n",
    "pd.to_datetime(payroll['Original Hire Date'])\n",
    "\n",
    "# parse hire date to get hire year\n",
    "payroll['Original Hire Date'] = payroll['Original Hire Date'].str.split('/').str[2]\n",
    "payroll['Original Hire Date'] = payroll['Original Hire Date'].astype(int)\n",
    "\n",
    "_work_year = payroll[\"Fiscal Period\"] - payroll['Original Hire Date']"
   ]
  },
  {
   "cell_type": "code",
   "execution_count": null,
   "metadata": {},
   "outputs": [],
   "source": [
    "# specify table column included\n",
    "\n",
    "payroll = payroll[['Fiscal Year', 'Fiscal Period', 'Job Code', 'Base Pay', 'Position ID', 'Employee Identifier']]\n",
    "\n",
    "# add Working Year Column\n",
    "payroll[\"Working Year\"] = _work_year\n",
    "\n",
    "payroll.head(20)"
   ]
  },
  {
   "cell_type": "code",
   "execution_count": null,
   "metadata": {},
   "outputs": [],
   "source": [
    "group_1172 = payroll.groupby(['Job Code']).get_group(1172)\n",
    "\n",
    "# grouped1 = group_1172.groupby(['Fiscal Period']).get_group(2016.0)\n",
    "# grouped2 = group_1172.groupby(['Fiscal Period']).get_group(2016.25)\n",
    "\n",
    "_sorted = group_1172.sort_values('Employee Identifier')\n",
    "pd.pivot_table(_sorted, values='Base Pay', index=['Fiscal Period'], columns='Employee Identifier')"
   ]
  },
  {
   "cell_type": "code",
   "execution_count": null,
   "metadata": {},
   "outputs": [],
   "source": [
    "#print(new_payroll.dtypes)"
   ]
  },
  {
   "cell_type": "code",
   "execution_count": null,
   "metadata": {},
   "outputs": [],
   "source": [
    "#cek nilai negatif pada kolom \n",
    "#if (new_payroll['Fiscal Year'] < 0).any():\n",
    "    #print(\"Kolom 'Fiscal Year' memiliki nilai negatif.\")\n",
    "#else:\n",
    "    #print(\"Kolom 'Fiscal Year' tidak memiliki nilai negatif.\")"
   ]
  },
  {
   "cell_type": "code",
   "execution_count": null,
   "metadata": {},
   "outputs": [],
   "source": [
    "#cek nilai negatif pada kolom \n",
    "#if (new_payroll['Fiscal Quarter'] < 0).any():\n",
    "    #print(\"Kolom 'Fiscal Quarter' memiliki nilai negatif.\")\n",
    "#else:\n",
    "    #print(\"Kolom 'Fiscal Quarter' tidak memiliki nilai negatif.\")"
   ]
  },
  {
   "cell_type": "code",
   "execution_count": null,
   "metadata": {},
   "outputs": [],
   "source": [
    "#cek nilai negatif pada kolom \n",
    "#if (new_payroll['Job Code'] < 0).any():\n",
    "    #print(\"Kolom 'JC' memiliki nilai negatif.\")\n",
    "#else:\n",
    "    #print(\"Kolom 'JC' tidak memiliki nilai negatif.\")"
   ]
  },
  {
   "cell_type": "code",
   "execution_count": null,
   "metadata": {},
   "outputs": [],
   "source": [
    "#cek nilai negatif pada kolom \n",
    "#if (new_payroll['Base Pay'] < 0).any():\n",
    "    #print(\"Kolom 'BP' memiliki nilai negatif.\")\n",
    "#else:\n",
    "    #print(\"Kolom 'BP' tidak memiliki nilai negatif.\")"
   ]
  },
  {
   "cell_type": "code",
   "execution_count": null,
   "metadata": {},
   "outputs": [],
   "source": [
    "#cek nilai negatif pada kolom \n",
    "#if (new_payroll['Position ID'] < 0).any():\n",
    "    #print(\"Kolom 'PI' memiliki nilai negatif.\")\n",
    "#else:\n",
    "    #print(\"Kolom 'PI' tidak memiliki nilai negatif.\")"
   ]
  },
  {
   "cell_type": "code",
   "execution_count": null,
   "metadata": {},
   "outputs": [],
   "source": [
    "#ambil kolom yang bertipe numerik (int, float) aja\n",
    "#numeric_cols = new_payroll.select_dtypes(include=[np.number]).columns\n",
    "\n",
    "#cek nilai negatif pada kolom numerik\n",
    "#neg_cols = (new_payroll[numeric_cols] < 0).any()\n",
    "\n",
    "#print kolom yang memiliki nilai negatif\n",
    "#if neg_cols.any():\n",
    "    #print(\"Terdapat nilai negatif pada kolom: \", end=\"\")\n",
    "    #print(\", \".join(neg_cols[neg_cols == True].index))\n",
    "#else:\n",
    "    #print(\"Tidak terdapat nilai negatif pada semua kolom numerik.\")"
   ]
  },
  {
   "cell_type": "code",
   "execution_count": null,
   "metadata": {},
   "outputs": [],
   "source": [
    "#ambil kolom yang bertipe numerik (int, float) aja\n",
    "#numeric_cols = new_payroll.select_dtypes(include=[np.number]).columns\n",
    "\n",
    "#ganti nilai negatif dengan 0\n",
    "#new_payroll[numeric_cols] = new_payroll[numeric_cols].clip(lower=0)\n",
    "\n",
    "#cek nilai negatif pada kolom numerik\n",
    "#neg_cols = (new_payroll[numeric_cols] < 0).any()\n",
    "\n",
    "#print kolom yang memiliki nilai negatif\n",
    "#if neg_cols.any():\n",
    "    #print(\"Terdapat nilai negatif pada kolom: \", end=\"\")\n",
    "    #print(\", \".join(neg_cols[neg_cols == True].index))\n",
    "#else:\n",
    "    #print(\"Tidak terdapat nilai negatif pada semua kolom numerik.\")"
   ]
  },
  {
   "cell_type": "code",
   "execution_count": null,
   "metadata": {},
   "outputs": [],
   "source": [
    "#cek banyak NaN pada kolom-kolom\n",
    "#new_payroll.isnull().sum()"
   ]
  },
  {
   "cell_type": "code",
   "execution_count": null,
   "metadata": {},
   "outputs": [],
   "source": [
    "#cek nilai NaN setiap kolom\n",
    "#null_cols = new_payroll.isnull().any()\n",
    "\n",
    "#print kolom yang memiliki nilai NaN\n",
    "#if null_cols.any():\n",
    "    #print(\"Terdapat nilai NaN pada kolom: \", end=\"\")\n",
    "    #print(\", \".join(null_cols[null_cols == True].index))\n",
    "#else:\n",
    "    #print(\"Tidak terdapat nilai NaN pada semua kolom.\")"
   ]
  },
  {
   "cell_type": "code",
   "execution_count": null,
   "metadata": {},
   "outputs": [],
   "source": [
    "#ganti NaN dengan 0\n",
    "#new_payroll.fillna(0, inplace=True)"
   ]
  },
  {
   "cell_type": "code",
   "execution_count": null,
   "metadata": {},
   "outputs": [],
   "source": [
    "#cek lagi apakah sudah tidak ada NaN\n",
    "#new_payroll.isnull().sum()"
   ]
  },
  {
   "cell_type": "code",
   "execution_count": null,
   "metadata": {},
   "outputs": [],
   "source": [
    "#negative = new_payroll[['Fiscal Year', 'Fiscal Quarter', 'Job Code', 'Base Pay', 'Position ID']].where(new_payroll[['Fiscal Year', 'Fiscal Quarter', 'Job Code', 'Base Pay', 'Position ID']] < 0, False)\n"
   ]
  },
  {
   "cell_type": "code",
   "execution_count": null,
   "metadata": {},
   "outputs": [],
   "source": [
    "#negative_rows = negative[negative.notnull()]"
   ]
  },
  {
   "cell_type": "code",
   "execution_count": null,
   "metadata": {},
   "outputs": [],
   "source": [
    "#print(negative_rows)"
   ]
  },
  {
   "cell_type": "code",
   "execution_count": null,
   "metadata": {},
   "outputs": [],
   "source": [
    "#numeric_cols = new_payroll.select_dtypes(include=[np.number]).columns.tolist()\n",
    "\n",
    "#negative = new_payroll[numeric_cols].where(new_payroll[numeric_cols] < 0, False).applymap(lambda x: x if isinstance(x, bool) else False)\n",
    "\n",
    "#negative_rows = negative.any(axis=1).index\n",
    "\n",
    "#print(f\"Ada {len(negative_rows)} baris dengan nilai negatif pada kolom numerik:\")\n",
    "#print(negative_rows)"
   ]
  },
  {
   "cell_type": "code",
   "execution_count": null,
   "metadata": {},
   "outputs": [],
   "source": [
    "#payroll['Job Code'].unique()\n",
    "#payroll.groupby(['Job Code']).get_group(1172)"
   ]
  },
  {
   "cell_type": "code",
   "execution_count": null,
   "metadata": {},
   "outputs": [],
   "source": [
    "#payroll.groupby(['Job Code']).get_group(1172)"
   ]
  },
  {
   "cell_type": "code",
   "execution_count": null,
   "metadata": {},
   "outputs": [],
   "source": [
    "#count = payroll['Job Code'].value_counts()[1172]\n",
    "#print(count)"
   ]
  },
  {
   "cell_type": "code",
   "execution_count": null,
   "metadata": {},
   "outputs": [],
   "source": [
    "#new_payroll['Job Code'].nunique()"
   ]
  },
  {
   "cell_type": "code",
   "execution_count": null,
   "metadata": {},
   "outputs": [],
   "source": [
    "#new_payroll['Job Code'].unique()"
   ]
  },
  {
   "cell_type": "code",
   "execution_count": null,
   "metadata": {},
   "outputs": [],
   "source": [
    "#_index = new_payroll['Job Code'].unique()\n",
    "\n",
    "#_ids = []\n",
    "\n",
    "#for _id in _index:\n",
    "    #counts = len(new_payroll.groupby(['Job Code']).get_group(_id))\n",
    "    #if counts > 1000:\n",
    "        #_ids.append(_id)\n",
    "        \n",
    "#print(len(_ids))"
   ]
  },
  {
   "cell_type": "code",
   "execution_count": null,
   "metadata": {},
   "outputs": [],
   "source": [
    "#pd.DataFrame(new_payroll)"
   ]
  },
  {
   "cell_type": "code",
   "execution_count": null,
   "metadata": {},
   "outputs": [],
   "source": [
    "#new_payroll['Job Code'].unique()"
   ]
  },
  {
   "cell_type": "code",
   "execution_count": null,
   "metadata": {},
   "outputs": [],
   "source": [
    "#for val in _ids:\n",
    "    #new_df = new_payroll[new_payroll['Job Code'] == val]\n",
    "    #print(f\"DataFrame for job code {val}:\")\n",
    "    #display(new_df)"
   ]
  }
 ],
 "metadata": {
  "kernelspec": {
   "display_name": "Python 3",
   "language": "python",
   "name": "python3"
  },
  "language_info": {
   "codemirror_mode": {
    "name": "ipython",
    "version": 3
   },
   "file_extension": ".py",
   "mimetype": "text/x-python",
   "name": "python",
   "nbconvert_exporter": "python",
   "pygments_lexer": "ipython3",
   "version": "3.10.8"
  },
  "orig_nbformat": 4
 },
 "nbformat": 4,
 "nbformat_minor": 2
}
