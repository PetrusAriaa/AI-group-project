{
 "cells": [
  {
   "cell_type": "code",
   "execution_count": null,
   "metadata": {},
   "outputs": [],
   "source": [
    "import pandas as pd\n",
    "import numpy as np"
   ]
  },
  {
   "cell_type": "code",
   "execution_count": null,
   "metadata": {},
   "outputs": [],
   "source": [
    "dataPayment = '../Datasets/Employee_Payroll.csv'\n",
    "payroll = pd.read_csv(dataPayment)\n",
    "payroll.head()"
   ]
  },
  {
   "cell_type": "code",
   "execution_count": null,
   "metadata": {},
   "outputs": [],
   "source": [
    "new_payroll = payroll[['Fiscal Year', 'Fiscal Quarter', 'Fiscal Period', 'Job Code', 'Job Title', 'Base Pay', 'Position ID', 'Employee Identifier', 'Original Hire Date']]\n",
    "new_payroll.head()"
   ]
  },
  {
   "cell_type": "code",
   "execution_count": null,
   "metadata": {},
   "outputs": [],
   "source": [
    "print(new_payroll.dtypes)"
   ]
  },
  {
   "cell_type": "code",
   "execution_count": null,
   "metadata": {},
   "outputs": [],
   "source": [
    "#cek nilai negatif pada kolom \n",
    "if (new_payroll['Fiscal Year'] < 0).any():\n",
    "    print(\"Kolom 'Fiscal Year' memiliki nilai negatif.\")\n",
    "else:\n",
    "    print(\"Kolom 'Fiscal Year' tidak memiliki nilai negatif.\")"
   ]
  },
  {
   "cell_type": "code",
   "execution_count": null,
   "metadata": {},
   "outputs": [],
   "source": [
    "#cek nilai negatif pada kolom \n",
    "if (new_payroll['Fiscal Quarter'] < 0).any():\n",
    "    print(\"Kolom 'Fiscal Quarter' memiliki nilai negatif.\")\n",
    "else:\n",
    "    print(\"Kolom 'Fiscal Quarter' tidak memiliki nilai negatif.\")"
   ]
  },
  {
   "cell_type": "code",
   "execution_count": null,
   "metadata": {},
   "outputs": [],
   "source": [
    "#cek nilai negatif pada kolom \n",
    "if (new_payroll['Job Code'] < 0).any():\n",
    "    print(\"Kolom 'JC' memiliki nilai negatif.\")\n",
    "else:\n",
    "    print(\"Kolom 'JC' tidak memiliki nilai negatif.\")"
   ]
  },
  {
   "cell_type": "code",
   "execution_count": null,
   "metadata": {},
   "outputs": [],
   "source": [
    "#cek nilai negatif pada kolom \n",
    "if (new_payroll['Base Pay'] < 0).any():\n",
    "    print(\"Kolom 'BP' memiliki nilai negatif.\")\n",
    "else:\n",
    "    print(\"Kolom 'BP' tidak memiliki nilai negatif.\")"
   ]
  },
  {
   "cell_type": "code",
   "execution_count": null,
   "metadata": {},
   "outputs": [],
   "source": [
    "#cek nilai negatif pada kolom \n",
    "if (new_payroll['Position ID'] < 0).any():\n",
    "    print(\"Kolom 'PI' memiliki nilai negatif.\")\n",
    "else:\n",
    "    print(\"Kolom 'PI' tidak memiliki nilai negatif.\")"
   ]
  },
  {
   "cell_type": "code",
   "execution_count": null,
   "metadata": {},
   "outputs": [],
   "source": [
    "#ambil kolom yang bertipe numerik (int, float) aja\n",
    "numeric_cols = new_payroll.select_dtypes(include=[np.number]).columns\n",
    "\n",
    "#cek nilai negatif pada kolom numerik\n",
    "neg_cols = (new_payroll[numeric_cols] < 0).any()\n",
    "\n",
    "#print kolom yang memiliki nilai negatif\n",
    "if neg_cols.any():\n",
    "    print(\"Terdapat nilai negatif pada kolom: \", end=\"\")\n",
    "    print(\", \".join(neg_cols[neg_cols == True].index))\n",
    "else:\n",
    "    print(\"Tidak terdapat nilai negatif pada semua kolom numerik.\")"
   ]
  },
  {
   "cell_type": "code",
   "execution_count": null,
   "metadata": {},
   "outputs": [],
   "source": [
    "#ambil kolom yang bertipe numerik (int, float) aja\n",
    "numeric_cols = new_payroll.select_dtypes(include=[np.number]).columns\n",
    "\n",
    "#ganti nilai negatif dengan 0\n",
    "new_payroll[numeric_cols] = new_payroll[numeric_cols].clip(lower=0)\n",
    "\n",
    "#cek nilai negatif pada kolom numerik\n",
    "neg_cols = (new_payroll[numeric_cols] < 0).any()\n",
    "\n",
    "#print kolom yang memiliki nilai negatif\n",
    "if neg_cols.any():\n",
    "    print(\"Terdapat nilai negatif pada kolom: \", end=\"\")\n",
    "    print(\", \".join(neg_cols[neg_cols == True].index))\n",
    "else:\n",
    "    print(\"Tidak terdapat nilai negatif pada semua kolom numerik.\")"
   ]
  },
  {
   "cell_type": "code",
   "execution_count": null,
   "metadata": {},
   "outputs": [],
   "source": [
    "#cek banyak NaN pada kolom-kolom\n",
    "new_payroll.isnull().sum()"
   ]
  },
  {
   "cell_type": "code",
   "execution_count": null,
   "metadata": {},
   "outputs": [],
   "source": [
    "#cek nilai NaN setiap kolom\n",
    "null_cols = new_payroll.isnull().any()\n",
    "\n",
    "#print kolom yang memiliki nilai NaN\n",
    "if null_cols.any():\n",
    "    print(\"Terdapat nilai NaN pada kolom: \", end=\"\")\n",
    "    print(\", \".join(null_cols[null_cols == True].index))\n",
    "else:\n",
    "    print(\"Tidak terdapat nilai NaN pada semua kolom.\")"
   ]
  },
  {
   "cell_type": "code",
   "execution_count": null,
   "metadata": {},
   "outputs": [],
   "source": [
    "#ganti NaN dengan 0\n",
    "new_payroll.fillna(0, inplace=True)"
   ]
  },
  {
   "cell_type": "code",
   "execution_count": null,
   "metadata": {},
   "outputs": [],
   "source": [
    "#cek lagi apakah sudah tidak ada NaN\n",
    "new_payroll.isnull().sum()"
   ]
  },
  {
   "cell_type": "code",
   "execution_count": null,
   "metadata": {},
   "outputs": [],
   "source": [
    "#negative = new_payroll[['Fiscal Year', 'Fiscal Quarter', 'Job Code', 'Base Pay', 'Position ID']].where(new_payroll[['Fiscal Year', 'Fiscal Quarter', 'Job Code', 'Base Pay', 'Position ID']] < 0, False)\n"
   ]
  },
  {
   "cell_type": "code",
   "execution_count": null,
   "metadata": {},
   "outputs": [],
   "source": [
    "#negative_rows = negative[negative.notnull()]"
   ]
  },
  {
   "cell_type": "code",
   "execution_count": null,
   "metadata": {},
   "outputs": [],
   "source": [
    "#print(negative_rows)"
   ]
  },
  {
   "cell_type": "code",
   "execution_count": null,
   "metadata": {},
   "outputs": [],
   "source": [
    "#numeric_cols = new_payroll.select_dtypes(include=[np.number]).columns.tolist()\n",
    "\n",
    "#negative = new_payroll[numeric_cols].where(new_payroll[numeric_cols] < 0, False).applymap(lambda x: x if isinstance(x, bool) else False)\n",
    "\n",
    "#negative_rows = negative.any(axis=1).index\n",
    "\n",
    "#print(f\"Ada {len(negative_rows)} baris dengan nilai negatif pada kolom numerik:\")\n",
    "#print(negative_rows)"
   ]
  },
  {
   "cell_type": "code",
   "execution_count": null,
   "metadata": {},
   "outputs": [],
   "source": [
    "#payroll['Job Code'].unique()\n",
    "#payroll.groupby(['Job Code']).get_group(1172)"
   ]
  },
  {
   "cell_type": "code",
   "execution_count": null,
   "metadata": {},
   "outputs": [],
   "source": [
    "#payroll.groupby(['Job Code']).get_group(1172)"
   ]
  },
  {
   "cell_type": "code",
   "execution_count": null,
   "metadata": {},
   "outputs": [],
   "source": [
    "#count = payroll['Job Code'].value_counts()[1172]\n",
    "#print(count)"
   ]
  },
  {
   "cell_type": "code",
   "execution_count": null,
   "metadata": {},
   "outputs": [],
   "source": [
    "new_payroll['Job Code'].nunique()"
   ]
  },
  {
   "cell_type": "code",
   "execution_count": null,
   "metadata": {},
   "outputs": [],
   "source": [
    "new_payroll['Job Code'].unique()"
   ]
  },
  {
   "cell_type": "code",
   "execution_count": null,
   "metadata": {},
   "outputs": [],
   "source": [
    "_index = new_payroll['Job Code'].unique()\n",
    "\n",
    "_ids = []\n",
    "\n",
    "for _id in _index:\n",
    "    counts = len(new_payroll.groupby(['Job Code']).get_group(_id))\n",
    "    if counts > 1000:\n",
    "        _ids.append(_id)\n",
    "        \n",
    "print(len(_ids))"
   ]
  },
  {
   "cell_type": "code",
   "execution_count": null,
   "metadata": {},
   "outputs": [],
   "source": [
    "pd.DataFrame(new_payroll)"
   ]
  },
  {
   "cell_type": "code",
   "execution_count": null,
   "metadata": {},
   "outputs": [],
   "source": [
    "new_payroll['Job Code'].unique()"
   ]
  },
  {
   "cell_type": "code",
   "execution_count": null,
   "metadata": {},
   "outputs": [],
   "source": [
    "for val in _ids:\n",
    "    new_df = new_payroll[new_payroll['Job Code'] == val]\n",
    "    print(f\"DataFrame for job code {val}:\")\n",
    "    display(new_df)"
   ]
  }
 ],
 "metadata": {
  "kernelspec": {
   "display_name": "Python 3",
   "language": "python",
   "name": "python3"
  },
  "language_info": {
   "codemirror_mode": {
    "name": "ipython",
    "version": 3
   },
   "file_extension": ".py",
   "mimetype": "text/x-python",
   "name": "python",
   "nbconvert_exporter": "python",
   "pygments_lexer": "ipython3",
   "version": "3.10.8"
  },
  "orig_nbformat": 4
 },
 "nbformat": 4,
 "nbformat_minor": 2
}
