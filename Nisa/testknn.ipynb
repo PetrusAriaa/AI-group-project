{
	"cells": [
		{
			"cell_type": "code",
			"execution_count": null,
			"metadata": {},
			"outputs": [],
			"source": [
				"import pandas as pd\n",
				"import numpy as np\n",
				"import matplotlib.pyplot as plt\n",
				"import os\n",
				"from sklearn.model_selection import train_test_split\n"
			]
		},
		{
			"cell_type": "code",
			"execution_count": null,
			"metadata": {},
			"outputs": [],
			"source": [
				"# read table\n",
				"\n",
				"dataPayment = '../Datasets/Employee_Payroll.csv'\n",
				"payroll = pd.read_csv(dataPayment)\n",
				"\n",
				"# set default value to 0 for NaN numerical data\n",
				"numeric_cols = payroll.select_dtypes(include=[np.number]).columns\n",
				"payroll[numeric_cols] = payroll[numeric_cols].clip(lower=0)\n",
				"\n",
				"\n",
				"payroll.fillna(0, inplace=True)\n",
				"payroll['Office'] = payroll['Office'].astype(int)\n",
				"\n",
				"# define column for 1/4 year discretization\n",
				"payroll['Fiscal Quarter'] = payroll['Fiscal Quarter']*0.25 - 0.25\n",
				"payroll['Fiscal Period'] = payroll['Fiscal Year'] + payroll['Fiscal Quarter']\n",
				"\n",
				"pd.to_datetime(payroll['Original Hire Date'])\n",
				"\n",
				"# parse hire date to get hire year\n",
				"payroll['Original Hire Date'] = payroll['Original Hire Date'].str.split('/').str[2]\n",
				"payroll['Original Hire Date'] = payroll['Original Hire Date'].astype(int)\n",
				"\n",
				"_work_year = payroll[\"Fiscal Period\"] - payroll['Original Hire Date']"
			]
		},
		{
			"cell_type": "code",
			"execution_count": null,
			"metadata": {},
			"outputs": [],
			"source": [
				"# specify table column included\n",
				"\n",
				"payroll = payroll[['Fiscal Year', 'Fiscal Period', 'Job Code', 'Job Title', 'Base Pay', 'Position ID', 'Employee Identifier']]\n",
				"\n",
				"# add Working Year Column\n",
				"payroll[\"Working Year\"] = _work_year\n",
				"\n",
				"payroll.head(20)"
			]
		},
		{
			"cell_type": "code",
			"execution_count": null,
			"metadata": {},
			"outputs": [],
			"source": [
				"X = payroll[['Job Code','Working Year']]\n",
				"Y = payroll['Base Pay'].values\n",
				"X.head(10)"
			]
		},
		{
			"cell_type": "code",
			"execution_count": null,
			"metadata": {},
			"outputs": [],
			"source": [
				"#view target values\n",
				"Y[0:5]"
			]
		},
		{
			"cell_type": "code",
			"execution_count": null,
			"metadata": {},
			"outputs": [],
			"source": [
				"x_train, x_test,y_train,y_test = train_test_split(X,Y,test_size =0.2)\n",
				"# print the data\n",
				"x_train"
			]
		},
		{
			"cell_type": "code",
			"execution_count": null,
			"metadata": {},
			"outputs": [],
			"source": [
				"from sklearn.neighbors import KNeighborsRegressor\n",
				"# Create KNN classifier\n",
				"knn = KNeighborsRegressor(n_neighbors = 3)\n",
				"# Fit the classifier to the data\n",
				"knn.fit(x_train,y_train)"
			]
		},
		{
			"cell_type": "code",
			"execution_count": null,
			"metadata": {},
			"outputs": [],
			"source": [
				"#show first 5 model predictions on the test data\n",
				"y_pred = knn.predict(x_test)"
			]
		},
		{
			"cell_type": "code",
			"execution_count": null,
			"metadata": {},
			"outputs": [],
			"source": [
				"#check accuracy of our model on the test data\n",
				"knn.score(x_test, y_test)"
			]
		},
		{
			"cell_type": "code",
			"execution_count": null,
			"metadata": {},
			"outputs": [],
			"source": [
				"from sklearn.metrics import mean_absolute_error\n",
				"mean_absolute_error(y_test, y_pred)"
			]
		},
		{
			"cell_type": "code",
			"execution_count": null,
			"metadata": {},
			"outputs": [],
			"source": [
				"# YANG INI JANGAN DIJALANKAN DULU YA GESSS :'\n",
				"\n",
				"arr = []\n",
				"\n",
				"try:\n",
				"    with open('./cache/ids.txt', \"r\") as f:\n",
				"        for _id in f:\n",
				"            arr.append(int(_id))\n",
				"except:\n",
				"    if not os.path.exists('./cache'):\n",
				"        os.mkdir('./cache')\n",
				"        \n",
				"    _index = payroll['Job Code'].unique()\n",
				"    for _id in _index:\n",
				"        counts = len(payroll.groupby(['Job Code']).get_group(_id))\n",
				"        if counts > 1000:\n",
				"            arr.append(str(_id))\n",
				"    with open('cache/ids.txt', 'w') as f:\n",
				"        for _id in arr:\n",
				"            f.write('%s\\n' % _id) \n",
				"finally:\n",
				"   f.close()\n",
				"\n",
				"# :return : <List> arr : list of unique job id"
			]
		},
		{
			"cell_type": "code",
			"execution_count": null,
			"metadata": {},
			"outputs": [],
			"source": [
				"# Group Job Code 1172 training dataset <<< PAKAI INI NGGIH\n",
				"\n",
				"group_1172 = payroll.groupby(['Job Code']).get_group(1172)\n",
				"\n",
				"_sorted = group_1172.sort_values('Employee Identifier')\n",
				"fiscal = pd.pivot_table(_sorted, values='Base Pay', index=['Fiscal Period'], columns='Employee Identifier')\n",
				"\n",
				"fiscal = fiscal.diff()"
			]
		},
		{
			"cell_type": "code",
			"execution_count": null,
			"metadata": {},
			"outputs": [],
			"source": [
				"# cleaned display table\n",
				"\n",
				"fiscal.fillna(0, inplace=True)\n",
				"fiscal = fiscal.drop(2016.00)\n",
				"\n",
				"fiscal"
			]
		},
		{
			"cell_type": "code",
			"execution_count": null,
			"metadata": {},
			"outputs": [],
			"source": [
				"\n",
				"\n",
				"# neg_cols = (payroll[numeric_cols] < 0).any()\n",
				"\n",
				"# if neg_cols.any():\n",
				"#     print(\"Terdapat nilai negatif pada kolom: \", end=\"\")\n",
				"#     print(\", \".join(neg_cols[neg_cols == True].index))\n",
				"# else:\n",
				"#     print(\"Tidak terdapat nilai negatif pada semua kolom numerik.\")"
			]
		},
		{
			"cell_type": "code",
			"execution_count": null,
			"metadata": {},
			"outputs": [],
			"source": [
				"# SUDAH AMAN 👍👍\n",
				"\n",
				"# null_cols = payroll.isnull().any()\n",
				"\n",
				"# if null_cols.any():\n",
				"#     print(\"Terdapat nilai NaN pada kolom: \", end=\"\")\n",
				"#     print(\", \".join(null_cols[null_cols == True].index))\n",
				"# else:\n",
				"#     print(\"Tidak terdapat nilai NaN pada semua kolom.\")"
			]
		},
		{
			"cell_type": "code",
			"execution_count": null,
			"metadata": {},
			"outputs": [],
			"source": [
				"# query job code indexing\n",
				"\n",
				"for val in arr:\n",
				"    new_df = payroll[payroll['Job Code'] == val]\n",
				"    print(f\"DataFrame for job code {val}:\")\n",
				"    display(new_df)"
			]
		}
	],
	"metadata": {
		"kernelspec": {
			"display_name": "Python 3",
			"language": "python",
			"name": "python3"
		},
		"language_info": {
			"codemirror_mode": {
				"name": "ipython",
				"version": 3
			},
			"file_extension": ".py",
			"mimetype": "text/x-python",
			"name": "python",
			"nbconvert_exporter": "python",
			"pygments_lexer": "ipython3",
			"version": "3.10.8"
		},
		"orig_nbformat": 4
	},
	"nbformat": 4,
	"nbformat_minor": 2
}
