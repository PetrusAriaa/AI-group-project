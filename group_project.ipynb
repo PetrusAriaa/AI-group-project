{
	"cells": [
		{
			"cell_type": "code",
			"execution_count": 3,
			"metadata": {},
			"outputs": [],
			"source": [
				"import pandas as pd\n",
				"import numpy as np\n",
				"import matplotlib.pyplot as plt\n",
				"import os\n"
			]
		},
		{
			"cell_type": "code",
			"execution_count": 4,
			"metadata": {},
			"outputs": [],
			"source": [
				"# read table\n",
				"\n",
				"dataPayment = './Datasets/Employee_Payroll.csv'\n",
				"payroll = pd.read_csv(dataPayment)\n",
				"\n",
				"# set default value to 0 for NaN numerical data\n",
				"numeric_cols = payroll.select_dtypes(include=[np.number]).columns\n",
				"payroll[numeric_cols] = payroll[numeric_cols].clip(lower=0)\n",
				"\n",
				"\n",
				"payroll.fillna(0, inplace=True)\n",
				"payroll['Office'] = payroll['Office'].astype(int)\n",
				"\n",
				"# define column for 1/4 year discretization\n",
				"payroll['Fiscal Quarter'] = payroll['Fiscal Quarter']*0.25 - 0.25\n",
				"payroll['Fiscal Period'] = payroll['Fiscal Year'] + payroll['Fiscal Quarter']\n",
				"\n",
				"pd.to_datetime(payroll['Original Hire Date'])\n",
				"\n",
				"# parse hire date to get hire year\n",
				"payroll['Original Hire Date'] = payroll['Original Hire Date'].str.split('/').str[2]\n",
				"payroll['Original Hire Date'] = payroll['Original Hire Date'].astype(int)\n",
				"\n",
				"_work_year = payroll[\"Fiscal Period\"] - payroll['Original Hire Date']"
			]
		},
		{
			"cell_type": "code",
			"execution_count": 5,
			"metadata": {},
			"outputs": [],
			"source": [
				"# specify table column included\n",
				"\n",
				"payroll = payroll[['Fiscal Year', 'Fiscal Period', 'Job Code', 'Job Title', 'Base Pay', 'Position ID', 'Employee Identifier']]\n",
				"\n",
				"# add Working Year Column\n",
				"payroll[\"Working Year\"] = _work_year"
			]
		},
		{
			"cell_type": "code",
			"execution_count": 6,
			"metadata": {},
			"outputs": [],
			"source": [
				"# YANG INI JANGAN DIJALANKAN DULU YA GESSS :'\n",
				"\n",
				"arr = []\n",
				"\n",
				"try:\n",
				"    with open('./cache/ids.txt', \"r\") as f:\n",
				"        for _id in f:\n",
				"            arr.append(int(_id))\n",
				"except:\n",
				"    if not os.path.exists('./cache'):\n",
				"        os.mkdir('./cache')\n",
				"        \n",
				"    _index = payroll['Job Code'].unique()\n",
				"    for _id in _index:\n",
				"        counts = len(payroll.groupby(['Job Code']).get_group(_id))\n",
				"        if counts > 1000:\n",
				"            arr.append(str(_id))\n",
				"    with open('cache/ids.txt', 'w') as f:\n",
				"        for _id in arr:\n",
				"            f.write('%s\\n' % _id)\n",
				"    with open('cache/ids.txt', 'r') as f:\n",
				"        arr = []\n",
				"        for _id in f:\n",
				"            arr.append(int(_id)) \n",
				"finally:\n",
				"   f.close()\n",
				"\n",
				"# :return : <List> arr : list of unique job id"
			]
		},
		{
			"cell_type": "code",
			"execution_count": 69,
			"metadata": {},
			"outputs": [
				{
					"data": {
						"text/plain": [
							"2705"
						]
					},
					"execution_count": 69,
					"metadata": {},
					"output_type": "execute_result"
				}
			],
			"source": [
				"emps = []\n",
				"max = 0;\n",
				"for _id in arr:\n",
				"    df = payroll[payroll['Job Code'] == _id]\n",
				"    emp_id = df['Employee Identifier'].unique()\n",
				"    if len(emp_id) > 50:\n",
				"        l = 75\n",
				"    else:\n",
				"        l = len(emp_id)\n",
				"\n",
				"    for i in range(l):\n",
				"        for i in range(100):\n",
				"            _index = np.random.randint(0, l-1)\n",
				"            if emp_id[_index] not in emps:\n",
				"                emps.append(emp_id[_index])\n",
				"                break\n",
				"\n",
				"\n",
				"len(emps)"
			]
		},
		{
			"cell_type": "code",
			"execution_count": 70,
			"metadata": {},
			"outputs": [
				{
					"data": {
						"text/html": [
							"<div>\n",
							"<style scoped>\n",
							"    .dataframe tbody tr th:only-of-type {\n",
							"        vertical-align: middle;\n",
							"    }\n",
							"\n",
							"    .dataframe tbody tr th {\n",
							"        vertical-align: top;\n",
							"    }\n",
							"\n",
							"    .dataframe thead th {\n",
							"        text-align: right;\n",
							"    }\n",
							"</style>\n",
							"<table border=\"1\" class=\"dataframe\">\n",
							"  <thead>\n",
							"    <tr style=\"text-align: right;\">\n",
							"      <th></th>\n",
							"      <th>Fiscal Year</th>\n",
							"      <th>Fiscal Period</th>\n",
							"      <th>Job Code</th>\n",
							"      <th>Job Title</th>\n",
							"      <th>Base Pay</th>\n",
							"      <th>Position ID</th>\n",
							"      <th>Employee Identifier</th>\n",
							"      <th>Working Year</th>\n",
							"    </tr>\n",
							"  </thead>\n",
							"  <tbody>\n",
							"    <tr>\n",
							"      <th>0</th>\n",
							"      <td>2016</td>\n",
							"      <td>2016.00</td>\n",
							"      <td>1172</td>\n",
							"      <td>Assistant State's Attorney</td>\n",
							"      <td>20088.00</td>\n",
							"      <td>9510200</td>\n",
							"      <td>6ac7ba3e-d286-44f5-87a0-191dc415e23c</td>\n",
							"      <td>11.00</td>\n",
							"    </tr>\n",
							"    <tr>\n",
							"      <th>1</th>\n",
							"      <td>2016</td>\n",
							"      <td>2016.25</td>\n",
							"      <td>1172</td>\n",
							"      <td>Assistant State's Attorney</td>\n",
							"      <td>23436.00</td>\n",
							"      <td>9510200</td>\n",
							"      <td>6ac7ba3e-d286-44f5-87a0-191dc415e23c</td>\n",
							"      <td>11.25</td>\n",
							"    </tr>\n",
							"    <tr>\n",
							"      <th>2</th>\n",
							"      <td>2016</td>\n",
							"      <td>2016.50</td>\n",
							"      <td>1172</td>\n",
							"      <td>Assistant State's Attorney</td>\n",
							"      <td>20422.82</td>\n",
							"      <td>9510200</td>\n",
							"      <td>6ac7ba3e-d286-44f5-87a0-191dc415e23c</td>\n",
							"      <td>11.50</td>\n",
							"    </tr>\n",
							"    <tr>\n",
							"      <th>3</th>\n",
							"      <td>2016</td>\n",
							"      <td>2016.75</td>\n",
							"      <td>1172</td>\n",
							"      <td>Assistant State's Attorney</td>\n",
							"      <td>23904.80</td>\n",
							"      <td>9510200</td>\n",
							"      <td>6ac7ba3e-d286-44f5-87a0-191dc415e23c</td>\n",
							"      <td>11.75</td>\n",
							"    </tr>\n",
							"    <tr>\n",
							"      <th>4</th>\n",
							"      <td>2017</td>\n",
							"      <td>2017.00</td>\n",
							"      <td>1172</td>\n",
							"      <td>Assistant State's Attorney</td>\n",
							"      <td>20745.80</td>\n",
							"      <td>9510200</td>\n",
							"      <td>6ac7ba3e-d286-44f5-87a0-191dc415e23c</td>\n",
							"      <td>12.00</td>\n",
							"    </tr>\n",
							"    <tr>\n",
							"      <th>...</th>\n",
							"      <td>...</td>\n",
							"      <td>...</td>\n",
							"      <td>...</td>\n",
							"      <td>...</td>\n",
							"      <td>...</td>\n",
							"      <td>...</td>\n",
							"      <td>...</td>\n",
							"      <td>...</td>\n",
							"    </tr>\n",
							"    <tr>\n",
							"      <th>234225</th>\n",
							"      <td>2018</td>\n",
							"      <td>2018.00</td>\n",
							"      <td>1570</td>\n",
							"      <td>Probation Officer II- PSB</td>\n",
							"      <td>13649.92</td>\n",
							"      <td>9514924</td>\n",
							"      <td>f01aa1fa-b791-4a57-b082-1de8559d5fba</td>\n",
							"      <td>34.00</td>\n",
							"    </tr>\n",
							"    <tr>\n",
							"      <th>234254</th>\n",
							"      <td>2018</td>\n",
							"      <td>2018.25</td>\n",
							"      <td>606</td>\n",
							"      <td>Assistant Public Defender III</td>\n",
							"      <td>30870.00</td>\n",
							"      <td>9511966</td>\n",
							"      <td>12c5ef30-094f-460d-98f6-3debea6853be</td>\n",
							"      <td>25.25</td>\n",
							"    </tr>\n",
							"    <tr>\n",
							"      <th>234259</th>\n",
							"      <td>2018</td>\n",
							"      <td>2018.00</td>\n",
							"      <td>48</td>\n",
							"      <td>Administrative Assistant III</td>\n",
							"      <td>17060.50</td>\n",
							"      <td>9513388</td>\n",
							"      <td>6ab6e3e3-8a44-4d22-8439-fee2ea9f9db6</td>\n",
							"      <td>25.00</td>\n",
							"    </tr>\n",
							"    <tr>\n",
							"      <th>234291</th>\n",
							"      <td>2018</td>\n",
							"      <td>2018.25</td>\n",
							"      <td>2051</td>\n",
							"      <td>Pharmacy Tech ARNTE</td>\n",
							"      <td>13964.56</td>\n",
							"      <td>903735</td>\n",
							"      <td>83c847da-1d2a-4a5c-b057-8cc02b2da114</td>\n",
							"      <td>4.25</td>\n",
							"    </tr>\n",
							"    <tr>\n",
							"      <th>234294</th>\n",
							"      <td>2018</td>\n",
							"      <td>2018.25</td>\n",
							"      <td>1172</td>\n",
							"      <td>Assistant State's Attorney</td>\n",
							"      <td>19001.95</td>\n",
							"      <td>9510048</td>\n",
							"      <td>ac4574b1-d301-44a7-a220-d3aafb5e9ec3</td>\n",
							"      <td>5.25</td>\n",
							"    </tr>\n",
							"  </tbody>\n",
							"</table>\n",
							"<p>24176 rows × 8 columns</p>\n",
							"</div>"
						],
						"text/plain": [
							"        Fiscal Year  Fiscal Period  Job Code                      Job Title  \\\n",
							"0              2016        2016.00      1172     Assistant State's Attorney   \n",
							"1              2016        2016.25      1172     Assistant State's Attorney   \n",
							"2              2016        2016.50      1172     Assistant State's Attorney   \n",
							"3              2016        2016.75      1172     Assistant State's Attorney   \n",
							"4              2017        2017.00      1172     Assistant State's Attorney   \n",
							"...             ...            ...       ...                            ...   \n",
							"234225         2018        2018.00      1570      Probation Officer II- PSB   \n",
							"234254         2018        2018.25       606  Assistant Public Defender III   \n",
							"234259         2018        2018.00        48   Administrative Assistant III   \n",
							"234291         2018        2018.25      2051            Pharmacy Tech ARNTE   \n",
							"234294         2018        2018.25      1172     Assistant State's Attorney   \n",
							"\n",
							"        Base Pay  Position ID                   Employee Identifier  \\\n",
							"0       20088.00      9510200  6ac7ba3e-d286-44f5-87a0-191dc415e23c   \n",
							"1       23436.00      9510200  6ac7ba3e-d286-44f5-87a0-191dc415e23c   \n",
							"2       20422.82      9510200  6ac7ba3e-d286-44f5-87a0-191dc415e23c   \n",
							"3       23904.80      9510200  6ac7ba3e-d286-44f5-87a0-191dc415e23c   \n",
							"4       20745.80      9510200  6ac7ba3e-d286-44f5-87a0-191dc415e23c   \n",
							"...          ...          ...                                   ...   \n",
							"234225  13649.92      9514924  f01aa1fa-b791-4a57-b082-1de8559d5fba   \n",
							"234254  30870.00      9511966  12c5ef30-094f-460d-98f6-3debea6853be   \n",
							"234259  17060.50      9513388  6ab6e3e3-8a44-4d22-8439-fee2ea9f9db6   \n",
							"234291  13964.56       903735  83c847da-1d2a-4a5c-b057-8cc02b2da114   \n",
							"234294  19001.95      9510048  ac4574b1-d301-44a7-a220-d3aafb5e9ec3   \n",
							"\n",
							"        Working Year  \n",
							"0              11.00  \n",
							"1              11.25  \n",
							"2              11.50  \n",
							"3              11.75  \n",
							"4              12.00  \n",
							"...              ...  \n",
							"234225         34.00  \n",
							"234254         25.25  \n",
							"234259         25.00  \n",
							"234291          4.25  \n",
							"234294          5.25  \n",
							"\n",
							"[24176 rows x 8 columns]"
						]
					},
					"execution_count": 70,
					"metadata": {},
					"output_type": "execute_result"
				}
			],
			"source": [
				"df_id = payroll[payroll['Employee Identifier'].isin(emps)]\n",
				"df_id"
			]
		},
		{
			"cell_type": "code",
			"execution_count": 71,
			"metadata": {},
			"outputs": [],
			"source": [
				"X = df_id[['Job Code','Working Year','Position ID','Fiscal Period', 'Fiscal Year']]\n",
				"Y = df_id['Base Pay']"
			]
		},
		{
			"cell_type": "code",
			"execution_count": 65,
			"metadata": {},
			"outputs": [],
			"source": [
				"from sklearn.model_selection import train_test_split\n",
				"x_train, x_test,y_train,y_test = train_test_split(X,Y,test_size =0.2)"
			]
		},
		{
			"cell_type": "code",
			"execution_count": 56,
			"metadata": {},
			"outputs": [
				{
					"data": {
						"text/html": [
							"<style>#sk-container-id-6 {color: black;background-color: white;}#sk-container-id-6 pre{padding: 0;}#sk-container-id-6 div.sk-toggleable {background-color: white;}#sk-container-id-6 label.sk-toggleable__label {cursor: pointer;display: block;width: 100%;margin-bottom: 0;padding: 0.3em;box-sizing: border-box;text-align: center;}#sk-container-id-6 label.sk-toggleable__label-arrow:before {content: \"▸\";float: left;margin-right: 0.25em;color: #696969;}#sk-container-id-6 label.sk-toggleable__label-arrow:hover:before {color: black;}#sk-container-id-6 div.sk-estimator:hover label.sk-toggleable__label-arrow:before {color: black;}#sk-container-id-6 div.sk-toggleable__content {max-height: 0;max-width: 0;overflow: hidden;text-align: left;background-color: #f0f8ff;}#sk-container-id-6 div.sk-toggleable__content pre {margin: 0.2em;color: black;border-radius: 0.25em;background-color: #f0f8ff;}#sk-container-id-6 input.sk-toggleable__control:checked~div.sk-toggleable__content {max-height: 200px;max-width: 100%;overflow: auto;}#sk-container-id-6 input.sk-toggleable__control:checked~label.sk-toggleable__label-arrow:before {content: \"▾\";}#sk-container-id-6 div.sk-estimator input.sk-toggleable__control:checked~label.sk-toggleable__label {background-color: #d4ebff;}#sk-container-id-6 div.sk-label input.sk-toggleable__control:checked~label.sk-toggleable__label {background-color: #d4ebff;}#sk-container-id-6 input.sk-hidden--visually {border: 0;clip: rect(1px 1px 1px 1px);clip: rect(1px, 1px, 1px, 1px);height: 1px;margin: -1px;overflow: hidden;padding: 0;position: absolute;width: 1px;}#sk-container-id-6 div.sk-estimator {font-family: monospace;background-color: #f0f8ff;border: 1px dotted black;border-radius: 0.25em;box-sizing: border-box;margin-bottom: 0.5em;}#sk-container-id-6 div.sk-estimator:hover {background-color: #d4ebff;}#sk-container-id-6 div.sk-parallel-item::after {content: \"\";width: 100%;border-bottom: 1px solid gray;flex-grow: 1;}#sk-container-id-6 div.sk-label:hover label.sk-toggleable__label {background-color: #d4ebff;}#sk-container-id-6 div.sk-serial::before {content: \"\";position: absolute;border-left: 1px solid gray;box-sizing: border-box;top: 0;bottom: 0;left: 50%;z-index: 0;}#sk-container-id-6 div.sk-serial {display: flex;flex-direction: column;align-items: center;background-color: white;padding-right: 0.2em;padding-left: 0.2em;position: relative;}#sk-container-id-6 div.sk-item {position: relative;z-index: 1;}#sk-container-id-6 div.sk-parallel {display: flex;align-items: stretch;justify-content: center;background-color: white;position: relative;}#sk-container-id-6 div.sk-item::before, #sk-container-id-6 div.sk-parallel-item::before {content: \"\";position: absolute;border-left: 1px solid gray;box-sizing: border-box;top: 0;bottom: 0;left: 50%;z-index: -1;}#sk-container-id-6 div.sk-parallel-item {display: flex;flex-direction: column;z-index: 1;position: relative;background-color: white;}#sk-container-id-6 div.sk-parallel-item:first-child::after {align-self: flex-end;width: 50%;}#sk-container-id-6 div.sk-parallel-item:last-child::after {align-self: flex-start;width: 50%;}#sk-container-id-6 div.sk-parallel-item:only-child::after {width: 0;}#sk-container-id-6 div.sk-dashed-wrapped {border: 1px dashed gray;margin: 0 0.4em 0.5em 0.4em;box-sizing: border-box;padding-bottom: 0.4em;background-color: white;}#sk-container-id-6 div.sk-label label {font-family: monospace;font-weight: bold;display: inline-block;line-height: 1.2em;}#sk-container-id-6 div.sk-label-container {text-align: center;}#sk-container-id-6 div.sk-container {/* jupyter's `normalize.less` sets `[hidden] { display: none; }` but bootstrap.min.css set `[hidden] { display: none !important; }` so we also need the `!important` here to be able to override the default hidden behavior on the sphinx rendered scikit-learn.org. See: https://github.com/scikit-learn/scikit-learn/issues/21755 */display: inline-block !important;position: relative;}#sk-container-id-6 div.sk-text-repr-fallback {display: none;}</style><div id=\"sk-container-id-6\" class=\"sk-top-container\"><div class=\"sk-text-repr-fallback\"><pre>KNeighborsRegressor(n_neighbors=3)</pre><b>In a Jupyter environment, please rerun this cell to show the HTML representation or trust the notebook. <br />On GitHub, the HTML representation is unable to render, please try loading this page with nbviewer.org.</b></div><div class=\"sk-container\" hidden><div class=\"sk-item\"><div class=\"sk-estimator sk-toggleable\"><input class=\"sk-toggleable__control sk-hidden--visually\" id=\"sk-estimator-id-6\" type=\"checkbox\" checked><label for=\"sk-estimator-id-6\" class=\"sk-toggleable__label sk-toggleable__label-arrow\">KNeighborsRegressor</label><div class=\"sk-toggleable__content\"><pre>KNeighborsRegressor(n_neighbors=3)</pre></div></div></div></div></div>"
						],
						"text/plain": [
							"KNeighborsRegressor(n_neighbors=3)"
						]
					},
					"execution_count": 56,
					"metadata": {},
					"output_type": "execute_result"
				}
			],
			"source": [
				"from sklearn.neighbors import KNeighborsRegressor\n",
				"# Create KNN classifier\n",
				"knn = KNeighborsRegressor(n_neighbors = 3)\n",
				"# Fit the classifier to the data\n",
				"knn.fit(x_train,y_train)"
			]
		},
		{
			"cell_type": "code",
			"execution_count": 57,
			"metadata": {},
			"outputs": [],
			"source": [
				"y_pred = knn.predict(x_test)"
			]
		},
		{
			"cell_type": "code",
			"execution_count": 58,
			"metadata": {},
			"outputs": [
				{
					"data": {
						"text/plain": [
							"0.6713053453824529"
						]
					},
					"execution_count": 58,
					"metadata": {},
					"output_type": "execute_result"
				}
			],
			"source": [
				"knn.score(x_test, y_test)"
			]
		},
		{
			"cell_type": "code",
			"execution_count": 59,
			"metadata": {},
			"outputs": [
				{
					"data": {
						"text/plain": [
							"2976.055022572178"
						]
					},
					"execution_count": 59,
					"metadata": {},
					"output_type": "execute_result"
				}
			],
			"source": [
				"from sklearn.metrics import mean_absolute_error\n",
				"mean_absolute_error(y_test, y_pred)"
			]
		},
		{
			"cell_type": "code",
			"execution_count": 72,
			"metadata": {},
			"outputs": [
				{
					"data": {
						"text/html": [
							"<style>#sk-container-id-9 {color: black;background-color: white;}#sk-container-id-9 pre{padding: 0;}#sk-container-id-9 div.sk-toggleable {background-color: white;}#sk-container-id-9 label.sk-toggleable__label {cursor: pointer;display: block;width: 100%;margin-bottom: 0;padding: 0.3em;box-sizing: border-box;text-align: center;}#sk-container-id-9 label.sk-toggleable__label-arrow:before {content: \"▸\";float: left;margin-right: 0.25em;color: #696969;}#sk-container-id-9 label.sk-toggleable__label-arrow:hover:before {color: black;}#sk-container-id-9 div.sk-estimator:hover label.sk-toggleable__label-arrow:before {color: black;}#sk-container-id-9 div.sk-toggleable__content {max-height: 0;max-width: 0;overflow: hidden;text-align: left;background-color: #f0f8ff;}#sk-container-id-9 div.sk-toggleable__content pre {margin: 0.2em;color: black;border-radius: 0.25em;background-color: #f0f8ff;}#sk-container-id-9 input.sk-toggleable__control:checked~div.sk-toggleable__content {max-height: 200px;max-width: 100%;overflow: auto;}#sk-container-id-9 input.sk-toggleable__control:checked~label.sk-toggleable__label-arrow:before {content: \"▾\";}#sk-container-id-9 div.sk-estimator input.sk-toggleable__control:checked~label.sk-toggleable__label {background-color: #d4ebff;}#sk-container-id-9 div.sk-label input.sk-toggleable__control:checked~label.sk-toggleable__label {background-color: #d4ebff;}#sk-container-id-9 input.sk-hidden--visually {border: 0;clip: rect(1px 1px 1px 1px);clip: rect(1px, 1px, 1px, 1px);height: 1px;margin: -1px;overflow: hidden;padding: 0;position: absolute;width: 1px;}#sk-container-id-9 div.sk-estimator {font-family: monospace;background-color: #f0f8ff;border: 1px dotted black;border-radius: 0.25em;box-sizing: border-box;margin-bottom: 0.5em;}#sk-container-id-9 div.sk-estimator:hover {background-color: #d4ebff;}#sk-container-id-9 div.sk-parallel-item::after {content: \"\";width: 100%;border-bottom: 1px solid gray;flex-grow: 1;}#sk-container-id-9 div.sk-label:hover label.sk-toggleable__label {background-color: #d4ebff;}#sk-container-id-9 div.sk-serial::before {content: \"\";position: absolute;border-left: 1px solid gray;box-sizing: border-box;top: 0;bottom: 0;left: 50%;z-index: 0;}#sk-container-id-9 div.sk-serial {display: flex;flex-direction: column;align-items: center;background-color: white;padding-right: 0.2em;padding-left: 0.2em;position: relative;}#sk-container-id-9 div.sk-item {position: relative;z-index: 1;}#sk-container-id-9 div.sk-parallel {display: flex;align-items: stretch;justify-content: center;background-color: white;position: relative;}#sk-container-id-9 div.sk-item::before, #sk-container-id-9 div.sk-parallel-item::before {content: \"\";position: absolute;border-left: 1px solid gray;box-sizing: border-box;top: 0;bottom: 0;left: 50%;z-index: -1;}#sk-container-id-9 div.sk-parallel-item {display: flex;flex-direction: column;z-index: 1;position: relative;background-color: white;}#sk-container-id-9 div.sk-parallel-item:first-child::after {align-self: flex-end;width: 50%;}#sk-container-id-9 div.sk-parallel-item:last-child::after {align-self: flex-start;width: 50%;}#sk-container-id-9 div.sk-parallel-item:only-child::after {width: 0;}#sk-container-id-9 div.sk-dashed-wrapped {border: 1px dashed gray;margin: 0 0.4em 0.5em 0.4em;box-sizing: border-box;padding-bottom: 0.4em;background-color: white;}#sk-container-id-9 div.sk-label label {font-family: monospace;font-weight: bold;display: inline-block;line-height: 1.2em;}#sk-container-id-9 div.sk-label-container {text-align: center;}#sk-container-id-9 div.sk-container {/* jupyter's `normalize.less` sets `[hidden] { display: none; }` but bootstrap.min.css set `[hidden] { display: none !important; }` so we also need the `!important` here to be able to override the default hidden behavior on the sphinx rendered scikit-learn.org. See: https://github.com/scikit-learn/scikit-learn/issues/21755 */display: inline-block !important;position: relative;}#sk-container-id-9 div.sk-text-repr-fallback {display: none;}</style><div id=\"sk-container-id-9\" class=\"sk-top-container\"><div class=\"sk-text-repr-fallback\"><pre>RandomForestRegressor()</pre><b>In a Jupyter environment, please rerun this cell to show the HTML representation or trust the notebook. <br />On GitHub, the HTML representation is unable to render, please try loading this page with nbviewer.org.</b></div><div class=\"sk-container\" hidden><div class=\"sk-item\"><div class=\"sk-estimator sk-toggleable\"><input class=\"sk-toggleable__control sk-hidden--visually\" id=\"sk-estimator-id-9\" type=\"checkbox\" checked><label for=\"sk-estimator-id-9\" class=\"sk-toggleable__label sk-toggleable__label-arrow\">RandomForestRegressor</label><div class=\"sk-toggleable__content\"><pre>RandomForestRegressor()</pre></div></div></div></div></div>"
						],
						"text/plain": [
							"RandomForestRegressor()"
						]
					},
					"execution_count": 72,
					"metadata": {},
					"output_type": "execute_result"
				}
			],
			"source": [
				"from sklearn.ensemble import RandomForestRegressor\n",
				"from sklearn.linear_model import RidgeCV\n",
				"rf = RandomForestRegressor()\n",
				"rf.fit(x_train, y_train)"
			]
		},
		{
			"cell_type": "code",
			"execution_count": 73,
			"metadata": {},
			"outputs": [],
			"source": [
				"y_pred = rf.predict(x_test)"
			]
		},
		{
			"cell_type": "code",
			"execution_count": 74,
			"metadata": {},
			"outputs": [
				{
					"data": {
						"text/plain": [
							"1996.5955421311717"
						]
					},
					"execution_count": 74,
					"metadata": {},
					"output_type": "execute_result"
				}
			],
			"source": [
				"from sklearn.metrics import mean_absolute_error\n",
				"mean_absolute_error(y_test, y_pred)\n",
				"# accuracy_score(y_test, y_pred)"
			]
		}
	],
	"metadata": {
		"kernelspec": {
			"display_name": "Python 3",
			"language": "python",
			"name": "python3"
		},
		"language_info": {
			"codemirror_mode": {
				"name": "ipython",
				"version": 3
			},
			"file_extension": ".py",
			"mimetype": "text/x-python",
			"name": "python",
			"nbconvert_exporter": "python",
			"pygments_lexer": "ipython3",
			"version": "3.10.8"
		},
		"orig_nbformat": 4
	},
	"nbformat": 4,
	"nbformat_minor": 2
}
