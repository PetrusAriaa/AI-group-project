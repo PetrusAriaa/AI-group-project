{
 "cells": [
  {
   "cell_type": "code",
   "execution_count": null,
   "metadata": {},
   "outputs": [],
   "source": [
    "import pandas as pd\n",
    "import numpy as np\n",
    "import matplotlib.pyplot as plt"
   ]
  },
  {
   "cell_type": "code",
   "execution_count": null,
   "metadata": {},
   "outputs": [],
   "source": [
    "dataPayment = 'Datasets/Employee_Payroll.csv'\n",
    "payroll = pd.read_csv(dataPayment)"
   ]
  },
  {
   "cell_type": "code",
   "execution_count": null,
   "metadata": {},
   "outputs": [],
   "source": [
    "new_payroll = payroll[['Fiscal Year', 'Fiscal Quarter', 'Fiscal Period', 'Job Code', 'Job Title', 'Base Pay', 'Position ID', 'Employee Identifier', 'Original Hire Date']]\n",
    "new_payroll.head(2)"
   ]
  },
  {
   "cell_type": "code",
   "execution_count": null,
   "metadata": {},
   "outputs": [],
   "source": [
    "_hired = payroll[\"Original Hire Date\"]\n",
    "_hired = _hired.str.replace(\"/\", \"\")\n",
    "_hired = _hired.str.slice_replace(0, 4, \"\")\n",
    "_fiscal_year = payroll[\"Fiscal Year\"]\n",
    "\n",
    "\n",
    "_hired = np.array(_hired.astype('int'))\n",
    "_fiscal_year = np.array(_fiscal_year.astype('int'))\n",
    "work_year = _fiscal_year - _hired\n",
    "work_year"
   ]
  },
  {
   "cell_type": "code",
   "execution_count": null,
   "metadata": {},
   "outputs": [],
   "source": [
    "_index = new_payroll['Job Code'].unique()\n",
    "\n",
    "_ids = []\n",
    "\n",
    "for _id in _index:\n",
    "    counts = len(new_payroll.groupby(['Job Code']).get_group(_id))\n",
    "    if counts > 1000:\n",
    "        _ids.append(_id)\n",
    "        \n",
    "print(len(_ids))"
   ]
  },
  {
   "cell_type": "code",
   "execution_count": null,
   "metadata": {},
   "outputs": [],
   "source": [
    "for val in _ids:\n",
    "    new_df = new_payroll[new_payroll['Job Code'] == val]\n",
    "    print(f\"DataFrame for job code {val}:\")\n",
    "    display(new_df)"
   ]
  },
  {
   "cell_type": "code",
   "execution_count": null,
   "metadata": {},
   "outputs": [],
   "source": []
  },
  {
   "cell_type": "code",
   "execution_count": null,
   "metadata": {},
   "outputs": [],
   "source": []
  },
  {
   "cell_type": "code",
   "execution_count": null,
   "metadata": {},
   "outputs": [],
   "source": []
  },
  {
   "cell_type": "code",
   "execution_count": null,
   "metadata": {},
   "outputs": [],
   "source": []
  }
 ],
 "metadata": {
  "kernelspec": {
   "display_name": "Python 3",
   "language": "python",
   "name": "python3"
  },
  "language_info": {
   "codemirror_mode": {
    "name": "ipython",
    "version": 3
   },
   "file_extension": ".py",
   "mimetype": "text/x-python",
   "name": "python",
   "nbconvert_exporter": "python",
   "pygments_lexer": "ipython3",
   "version": "3.10.8"
  },
  "orig_nbformat": 4
 },
 "nbformat": 4,
 "nbformat_minor": 2
}
